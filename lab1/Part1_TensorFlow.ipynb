{
  "cells": [
    {
      "attachments": {},
      "cell_type": "markdown",
      "metadata": {
        "id": "WBk0ZDWY-ff8"
      },
      "source": [
        "<table align=\"center\">\n",
        "  <td align=\"center\"><a target=\"_blank\" href=\"http://introtodeeplearning.com\">\n",
        "        <img src=\"https://i.ibb.co/Jr88sn2/mit.png\" style=\"padding-bottom:5px;\" />\n",
        "      Visit MIT Deep Learning</a></td>\n",
        "  <td align=\"center\"><a target=\"_blank\" href=\"https://colab.research.google.com/github/aamini/introtodeeplearning/blob/2023/lab1/Part1_TensorFlow.ipynb\">\n",
        "        <img src=\"https://i.ibb.co/2P3SLwK/colab.png\"  style=\"padding-bottom:5px;\" />Run in Google Colab</a></td>\n",
        "  <td align=\"center\"><a target=\"_blank\" href=\"https://github.com/aamini/introtodeeplearning/blob/2023/lab1/Part1_TensorFlow.ipynb\">\n",
        "        <img src=\"https://i.ibb.co/xfJbPmL/github.png\"  height=\"70px\" style=\"padding-bottom:5px;\"  />View Source on GitHub</a></td>\n",
        "</table>\n",
        "\n",
        "\n",
        "# Copyright Information\n"
      ]
    },
    {
      "cell_type": "code",
      "execution_count": null,
      "metadata": {
        "id": "3eI6DUic-6jo"
      },
      "outputs": [],
      "source": [
        "# Copyright 2023 MIT Introduction to Deep Learning. All Rights Reserved.\n",
        "# \n",
        "# Licensed under the MIT License. You may not use this file except in compliance\n",
        "# with the License. Use and/or modification of this code outside of MIT Introduction\n",
        "# to Deep Learning must reference:\n",
        "#\n",
        "# © MIT Introduction to Deep Learning\n",
        "# http://introtodeeplearning.com\n",
        "#"
      ]
    },
    {
      "attachments": {},
      "cell_type": "markdown",
      "metadata": {
        "id": "57knM8jrYZ2t"
      },
      "source": [
        "# Lab 1: Intro to TensorFlow and Music Generation with RNNs\n",
        "\n",
        "In this lab, you'll get exposure to using TensorFlow and learn how it can be used for solving deep learning tasks. Go through the code and run each cell. Along the way, you'll encounter several ***TODO*** blocks -- follow the instructions to fill them out before running those cells and continuing.\n",
        "\n",
        "\n",
        "# Part 1: Intro to TensorFlow\n",
        "\n",
        "## 0.1 Install TensorFlow\n",
        "\n",
        "TensorFlow is a software library extensively used in machine learning. Here we'll learn how computations are represented and how to define a simple neural network in TensorFlow. For all the labs in Introduction to Deep Learning 2023, we'll be using the latest version of TensorFlow, TensorFlow 2, which affords great flexibility and the ability to imperatively execute operations, just like in Python. You'll notice that TensorFlow 2 is quite similar to Python in its syntax and imperative execution. Let's install TensorFlow and a couple of dependencies.\n"
      ]
    },
    {
      "cell_type": "code",
      "execution_count": 23,
      "metadata": {},
      "outputs": [
        {
          "name": "stdout",
          "output_type": "stream",
          "text": [
            "Requirement already satisfied: coverage>=4.0.3 in c:\\users\\hdev2\\onedrive - dna\\documents\\introtodeeplearning\\.venv\\lib\\site-packages (from -r requirements.txt (line 1)) (7.2.7)\n",
            "Requirement already satisfied: engarde>=0.3.1 in c:\\users\\hdev2\\onedrive - dna\\documents\\introtodeeplearning\\.venv\\lib\\site-packages (from -r requirements.txt (line 2)) (0.4.0)\n",
            "Requirement already satisfied: ipython>=4.1.2 in c:\\users\\hdev2\\onedrive - dna\\documents\\introtodeeplearning\\.venv\\lib\\site-packages (from -r requirements.txt (line 3)) (8.14.0)\n",
            "Requirement already satisfied: jupyter>=1.0.0 in c:\\users\\hdev2\\onedrive - dna\\documents\\introtodeeplearning\\.venv\\lib\\site-packages (from -r requirements.txt (line 4)) (1.0.0)\n",
            "Requirement already satisfied: matplotlib>=1.5.1 in c:\\users\\hdev2\\onedrive - dna\\documents\\introtodeeplearning\\.venv\\lib\\site-packages (from -r requirements.txt (line 5)) (3.7.1)\n",
            "Requirement already satisfied: notebook>=4.1.0 in c:\\users\\hdev2\\onedrive - dna\\documents\\introtodeeplearning\\.venv\\lib\\site-packages (from -r requirements.txt (line 6)) (6.5.4)\n",
            "Requirement already satisfied: numpy>=1.10.4 in c:\\users\\hdev2\\onedrive - dna\\documents\\introtodeeplearning\\.venv\\lib\\site-packages (from -r requirements.txt (line 7)) (1.23.5)\n",
            "Requirement already satisfied: pandas>=0.17.1 in c:\\users\\hdev2\\onedrive - dna\\documents\\introtodeeplearning\\.venv\\lib\\site-packages (from -r requirements.txt (line 8)) (2.0.2)\n",
            "Requirement already satisfied: seaborn>=0.7.0 in c:\\users\\hdev2\\onedrive - dna\\documents\\introtodeeplearning\\.venv\\lib\\site-packages (from -r requirements.txt (line 9)) (0.12.2)\n",
            "Requirement already satisfied: q>=2.6 in c:\\users\\hdev2\\onedrive - dna\\documents\\introtodeeplearning\\.venv\\lib\\site-packages (from -r requirements.txt (line 10)) (2.7)\n",
            "Requirement already satisfied: python-dotenv>=0.5.0 in c:\\users\\hdev2\\onedrive - dna\\documents\\introtodeeplearning\\.venv\\lib\\site-packages (from -r requirements.txt (line 11)) (1.0.0)\n",
            "Requirement already satisfied: watermark>=1.3.0 in c:\\users\\hdev2\\onedrive - dna\\documents\\introtodeeplearning\\.venv\\lib\\site-packages (from -r requirements.txt (line 12)) (2.4.2)\n",
            "Requirement already satisfied: pytest>=2.9.2 in c:\\users\\hdev2\\onedrive - dna\\documents\\introtodeeplearning\\.venv\\lib\\site-packages (from -r requirements.txt (line 13)) (7.3.1)\n",
            "Requirement already satisfied: tensorflow in c:\\users\\hdev2\\onedrive - dna\\documents\\introtodeeplearning\\.venv\\lib\\site-packages (from -r requirements.txt (line 14)) (2.12.0)\n",
            "Requirement already satisfied: mitdeeplearning in c:\\users\\hdev2\\onedrive - dna\\documents\\introtodeeplearning\\.venv\\lib\\site-packages (from -r requirements.txt (line 16)) (0.3.0)\n",
            "Requirement already satisfied: plotly in c:\\users\\hdev2\\onedrive - dna\\documents\\introtodeeplearning\\.venv\\lib\\site-packages (from -r requirements.txt (line 17)) (5.14.1)\n",
            "Requirement already satisfied: tqdm in c:\\users\\hdev2\\onedrive - dna\\documents\\introtodeeplearning\\.venv\\lib\\site-packages (from -r requirements.txt (line 18)) (4.65.0)\n",
            "Collecting opencv-python (from -r requirements.txt (line 19))\n",
            "  Using cached opencv_python-4.7.0.72-cp37-abi3-win_amd64.whl (38.2 MB)\n",
            "Requirement already satisfied: scikit-learn in c:\\users\\hdev2\\onedrive - dna\\documents\\introtodeeplearning\\.venv\\lib\\site-packages (from -r requirements.txt (line 24)) (1.2.2)\n",
            "Requirement already satisfied: scipy in c:\\users\\hdev2\\onedrive - dna\\documents\\introtodeeplearning\\.venv\\lib\\site-packages (from -r requirements.txt (line 25)) (1.10.1)\n",
            "Requirement already satisfied: nbdime in c:\\users\\hdev2\\onedrive - dna\\documents\\introtodeeplearning\\.venv\\lib\\site-packages (from -r requirements.txt (line 26)) (3.2.1)\n",
            "Requirement already satisfied: runipy in c:\\users\\hdev2\\onedrive - dna\\documents\\introtodeeplearning\\.venv\\lib\\site-packages (from -r requirements.txt (line 27)) (0.1.5)\n",
            "Requirement already satisfied: six in c:\\users\\hdev2\\onedrive - dna\\documents\\introtodeeplearning\\.venv\\lib\\site-packages (from engarde>=0.3.1->-r requirements.txt (line 2)) (1.16.0)\n",
            "Requirement already satisfied: backcall in c:\\users\\hdev2\\onedrive - dna\\documents\\introtodeeplearning\\.venv\\lib\\site-packages (from ipython>=4.1.2->-r requirements.txt (line 3)) (0.2.0)\n",
            "Requirement already satisfied: decorator in c:\\users\\hdev2\\onedrive - dna\\documents\\introtodeeplearning\\.venv\\lib\\site-packages (from ipython>=4.1.2->-r requirements.txt (line 3)) (5.1.1)\n",
            "Requirement already satisfied: jedi>=0.16 in c:\\users\\hdev2\\onedrive - dna\\documents\\introtodeeplearning\\.venv\\lib\\site-packages (from ipython>=4.1.2->-r requirements.txt (line 3)) (0.18.2)\n",
            "Requirement already satisfied: matplotlib-inline in c:\\users\\hdev2\\onedrive - dna\\documents\\introtodeeplearning\\.venv\\lib\\site-packages (from ipython>=4.1.2->-r requirements.txt (line 3)) (0.1.6)\n",
            "Requirement already satisfied: pickleshare in c:\\users\\hdev2\\onedrive - dna\\documents\\introtodeeplearning\\.venv\\lib\\site-packages (from ipython>=4.1.2->-r requirements.txt (line 3)) (0.7.5)\n",
            "Requirement already satisfied: prompt-toolkit!=3.0.37,<3.1.0,>=3.0.30 in c:\\users\\hdev2\\onedrive - dna\\documents\\introtodeeplearning\\.venv\\lib\\site-packages (from ipython>=4.1.2->-r requirements.txt (line 3)) (3.0.38)\n",
            "Requirement already satisfied: pygments>=2.4.0 in c:\\users\\hdev2\\onedrive - dna\\documents\\introtodeeplearning\\.venv\\lib\\site-packages (from ipython>=4.1.2->-r requirements.txt (line 3)) (2.15.1)\n",
            "Requirement already satisfied: stack-data in c:\\users\\hdev2\\onedrive - dna\\documents\\introtodeeplearning\\.venv\\lib\\site-packages (from ipython>=4.1.2->-r requirements.txt (line 3)) (0.6.2)\n",
            "Requirement already satisfied: traitlets>=5 in c:\\users\\hdev2\\onedrive - dna\\documents\\introtodeeplearning\\.venv\\lib\\site-packages (from ipython>=4.1.2->-r requirements.txt (line 3)) (5.9.0)\n",
            "Requirement already satisfied: colorama in c:\\users\\hdev2\\onedrive - dna\\documents\\introtodeeplearning\\.venv\\lib\\site-packages (from ipython>=4.1.2->-r requirements.txt (line 3)) (0.4.6)\n",
            "Requirement already satisfied: qtconsole in c:\\users\\hdev2\\onedrive - dna\\documents\\introtodeeplearning\\.venv\\lib\\site-packages (from jupyter>=1.0.0->-r requirements.txt (line 4)) (5.4.3)\n",
            "Requirement already satisfied: jupyter-console in c:\\users\\hdev2\\onedrive - dna\\documents\\introtodeeplearning\\.venv\\lib\\site-packages (from jupyter>=1.0.0->-r requirements.txt (line 4)) (6.6.3)\n",
            "Requirement already satisfied: nbconvert in c:\\users\\hdev2\\onedrive - dna\\documents\\introtodeeplearning\\.venv\\lib\\site-packages (from jupyter>=1.0.0->-r requirements.txt (line 4)) (7.4.0)\n",
            "Requirement already satisfied: ipykernel in c:\\users\\hdev2\\onedrive - dna\\documents\\introtodeeplearning\\.venv\\lib\\site-packages (from jupyter>=1.0.0->-r requirements.txt (line 4)) (6.23.1)\n",
            "Requirement already satisfied: ipywidgets in c:\\users\\hdev2\\onedrive - dna\\documents\\introtodeeplearning\\.venv\\lib\\site-packages (from jupyter>=1.0.0->-r requirements.txt (line 4)) (8.0.6)\n",
            "Requirement already satisfied: contourpy>=1.0.1 in c:\\users\\hdev2\\onedrive - dna\\documents\\introtodeeplearning\\.venv\\lib\\site-packages (from matplotlib>=1.5.1->-r requirements.txt (line 5)) (1.0.7)\n",
            "Requirement already satisfied: cycler>=0.10 in c:\\users\\hdev2\\onedrive - dna\\documents\\introtodeeplearning\\.venv\\lib\\site-packages (from matplotlib>=1.5.1->-r requirements.txt (line 5)) (0.11.0)\n",
            "Requirement already satisfied: fonttools>=4.22.0 in c:\\users\\hdev2\\onedrive - dna\\documents\\introtodeeplearning\\.venv\\lib\\site-packages (from matplotlib>=1.5.1->-r requirements.txt (line 5)) (4.39.4)\n",
            "Requirement already satisfied: kiwisolver>=1.0.1 in c:\\users\\hdev2\\onedrive - dna\\documents\\introtodeeplearning\\.venv\\lib\\site-packages (from matplotlib>=1.5.1->-r requirements.txt (line 5)) (1.4.4)\n",
            "Requirement already satisfied: packaging>=20.0 in c:\\users\\hdev2\\onedrive - dna\\documents\\introtodeeplearning\\.venv\\lib\\site-packages (from matplotlib>=1.5.1->-r requirements.txt (line 5)) (23.1)\n",
            "Requirement already satisfied: pillow>=6.2.0 in c:\\users\\hdev2\\onedrive - dna\\documents\\introtodeeplearning\\.venv\\lib\\site-packages (from matplotlib>=1.5.1->-r requirements.txt (line 5)) (9.5.0)\n",
            "Requirement already satisfied: pyparsing>=2.3.1 in c:\\users\\hdev2\\onedrive - dna\\documents\\introtodeeplearning\\.venv\\lib\\site-packages (from matplotlib>=1.5.1->-r requirements.txt (line 5)) (3.0.9)\n",
            "Requirement already satisfied: python-dateutil>=2.7 in c:\\users\\hdev2\\onedrive - dna\\documents\\introtodeeplearning\\.venv\\lib\\site-packages (from matplotlib>=1.5.1->-r requirements.txt (line 5)) (2.8.2)\n",
            "Requirement already satisfied: jinja2 in c:\\users\\hdev2\\onedrive - dna\\documents\\introtodeeplearning\\.venv\\lib\\site-packages (from notebook>=4.1.0->-r requirements.txt (line 6)) (3.1.2)\n",
            "Requirement already satisfied: tornado>=6.1 in c:\\users\\hdev2\\onedrive - dna\\documents\\introtodeeplearning\\.venv\\lib\\site-packages (from notebook>=4.1.0->-r requirements.txt (line 6)) (6.3.2)\n",
            "Requirement already satisfied: pyzmq>=17 in c:\\users\\hdev2\\onedrive - dna\\documents\\introtodeeplearning\\.venv\\lib\\site-packages (from notebook>=4.1.0->-r requirements.txt (line 6)) (25.1.0)\n",
            "Requirement already satisfied: argon2-cffi in c:\\users\\hdev2\\onedrive - dna\\documents\\introtodeeplearning\\.venv\\lib\\site-packages (from notebook>=4.1.0->-r requirements.txt (line 6)) (21.3.0)\n",
            "Requirement already satisfied: jupyter-core>=4.6.1 in c:\\users\\hdev2\\onedrive - dna\\documents\\introtodeeplearning\\.venv\\lib\\site-packages (from notebook>=4.1.0->-r requirements.txt (line 6)) (5.3.0)\n",
            "Requirement already satisfied: jupyter-client>=5.3.4 in c:\\users\\hdev2\\onedrive - dna\\documents\\introtodeeplearning\\.venv\\lib\\site-packages (from notebook>=4.1.0->-r requirements.txt (line 6)) (8.2.0)\n",
            "Requirement already satisfied: ipython-genutils in c:\\users\\hdev2\\onedrive - dna\\documents\\introtodeeplearning\\.venv\\lib\\site-packages (from notebook>=4.1.0->-r requirements.txt (line 6)) (0.2.0)\n",
            "Requirement already satisfied: nbformat in c:\\users\\hdev2\\onedrive - dna\\documents\\introtodeeplearning\\.venv\\lib\\site-packages (from notebook>=4.1.0->-r requirements.txt (line 6)) (5.9.0)\n",
            "Requirement already satisfied: nest-asyncio>=1.5 in c:\\users\\hdev2\\onedrive - dna\\documents\\introtodeeplearning\\.venv\\lib\\site-packages (from notebook>=4.1.0->-r requirements.txt (line 6)) (1.5.6)\n",
            "Requirement already satisfied: Send2Trash>=1.8.0 in c:\\users\\hdev2\\onedrive - dna\\documents\\introtodeeplearning\\.venv\\lib\\site-packages (from notebook>=4.1.0->-r requirements.txt (line 6)) (1.8.2)\n",
            "Requirement already satisfied: terminado>=0.8.3 in c:\\users\\hdev2\\onedrive - dna\\documents\\introtodeeplearning\\.venv\\lib\\site-packages (from notebook>=4.1.0->-r requirements.txt (line 6)) (0.17.1)\n",
            "Requirement already satisfied: prometheus-client in c:\\users\\hdev2\\onedrive - dna\\documents\\introtodeeplearning\\.venv\\lib\\site-packages (from notebook>=4.1.0->-r requirements.txt (line 6)) (0.17.0)\n",
            "Requirement already satisfied: nbclassic>=0.4.7 in c:\\users\\hdev2\\onedrive - dna\\documents\\introtodeeplearning\\.venv\\lib\\site-packages (from notebook>=4.1.0->-r requirements.txt (line 6)) (1.0.0)\n",
            "Requirement already satisfied: pytz>=2020.1 in c:\\users\\hdev2\\onedrive - dna\\documents\\introtodeeplearning\\.venv\\lib\\site-packages (from pandas>=0.17.1->-r requirements.txt (line 8)) (2023.3)\n",
            "Requirement already satisfied: tzdata>=2022.1 in c:\\users\\hdev2\\onedrive - dna\\documents\\introtodeeplearning\\.venv\\lib\\site-packages (from pandas>=0.17.1->-r requirements.txt (line 8)) (2023.3)\n",
            "Requirement already satisfied: importlib-metadata>=1.4 in c:\\users\\hdev2\\onedrive - dna\\documents\\introtodeeplearning\\.venv\\lib\\site-packages (from watermark>=1.3.0->-r requirements.txt (line 12)) (6.6.0)\n",
            "Requirement already satisfied: py3nvml>=0.2 in c:\\users\\hdev2\\onedrive - dna\\documents\\introtodeeplearning\\.venv\\lib\\site-packages (from watermark>=1.3.0->-r requirements.txt (line 12)) (0.2.7)\n",
            "Requirement already satisfied: setuptools in c:\\users\\hdev2\\onedrive - dna\\documents\\introtodeeplearning\\.venv\\lib\\site-packages (from watermark>=1.3.0->-r requirements.txt (line 12)) (65.5.0)\n",
            "Requirement already satisfied: iniconfig in c:\\users\\hdev2\\onedrive - dna\\documents\\introtodeeplearning\\.venv\\lib\\site-packages (from pytest>=2.9.2->-r requirements.txt (line 13)) (2.0.0)\n",
            "Requirement already satisfied: pluggy<2.0,>=0.12 in c:\\users\\hdev2\\onedrive - dna\\documents\\introtodeeplearning\\.venv\\lib\\site-packages (from pytest>=2.9.2->-r requirements.txt (line 13)) (1.0.0)\n",
            "Requirement already satisfied: tensorflow-intel==2.12.0 in c:\\users\\hdev2\\onedrive - dna\\documents\\introtodeeplearning\\.venv\\lib\\site-packages (from tensorflow->-r requirements.txt (line 14)) (2.12.0)\n",
            "Requirement already satisfied: absl-py>=1.0.0 in c:\\users\\hdev2\\onedrive - dna\\documents\\introtodeeplearning\\.venv\\lib\\site-packages (from tensorflow-intel==2.12.0->tensorflow->-r requirements.txt (line 14)) (1.4.0)\n",
            "Requirement already satisfied: astunparse>=1.6.0 in c:\\users\\hdev2\\onedrive - dna\\documents\\introtodeeplearning\\.venv\\lib\\site-packages (from tensorflow-intel==2.12.0->tensorflow->-r requirements.txt (line 14)) (1.6.3)\n",
            "Requirement already satisfied: flatbuffers>=2.0 in c:\\users\\hdev2\\onedrive - dna\\documents\\introtodeeplearning\\.venv\\lib\\site-packages (from tensorflow-intel==2.12.0->tensorflow->-r requirements.txt (line 14)) (23.5.26)\n",
            "Requirement already satisfied: gast<=0.4.0,>=0.2.1 in c:\\users\\hdev2\\onedrive - dna\\documents\\introtodeeplearning\\.venv\\lib\\site-packages (from tensorflow-intel==2.12.0->tensorflow->-r requirements.txt (line 14)) (0.4.0)\n",
            "Requirement already satisfied: google-pasta>=0.1.1 in c:\\users\\hdev2\\onedrive - dna\\documents\\introtodeeplearning\\.venv\\lib\\site-packages (from tensorflow-intel==2.12.0->tensorflow->-r requirements.txt (line 14)) (0.2.0)\n",
            "Requirement already satisfied: h5py>=2.9.0 in c:\\users\\hdev2\\onedrive - dna\\documents\\introtodeeplearning\\.venv\\lib\\site-packages (from tensorflow-intel==2.12.0->tensorflow->-r requirements.txt (line 14)) (3.8.0)\n",
            "Requirement already satisfied: jax>=0.3.15 in c:\\users\\hdev2\\onedrive - dna\\documents\\introtodeeplearning\\.venv\\lib\\site-packages (from tensorflow-intel==2.12.0->tensorflow->-r requirements.txt (line 14)) (0.4.11)\n",
            "Requirement already satisfied: libclang>=13.0.0 in c:\\users\\hdev2\\onedrive - dna\\documents\\introtodeeplearning\\.venv\\lib\\site-packages (from tensorflow-intel==2.12.0->tensorflow->-r requirements.txt (line 14)) (16.0.0)\n",
            "Requirement already satisfied: opt-einsum>=2.3.2 in c:\\users\\hdev2\\onedrive - dna\\documents\\introtodeeplearning\\.venv\\lib\\site-packages (from tensorflow-intel==2.12.0->tensorflow->-r requirements.txt (line 14)) (3.3.0)\n",
            "Requirement already satisfied: protobuf!=4.21.0,!=4.21.1,!=4.21.2,!=4.21.3,!=4.21.4,!=4.21.5,<5.0.0dev,>=3.20.3 in c:\\users\\hdev2\\onedrive - dna\\documents\\introtodeeplearning\\.venv\\lib\\site-packages (from tensorflow-intel==2.12.0->tensorflow->-r requirements.txt (line 14)) (4.23.2)\n",
            "Requirement already satisfied: termcolor>=1.1.0 in c:\\users\\hdev2\\onedrive - dna\\documents\\introtodeeplearning\\.venv\\lib\\site-packages (from tensorflow-intel==2.12.0->tensorflow->-r requirements.txt (line 14)) (2.3.0)\n",
            "Requirement already satisfied: typing-extensions>=3.6.6 in c:\\users\\hdev2\\onedrive - dna\\documents\\introtodeeplearning\\.venv\\lib\\site-packages (from tensorflow-intel==2.12.0->tensorflow->-r requirements.txt (line 14)) (4.6.3)\n",
            "Requirement already satisfied: wrapt<1.15,>=1.11.0 in c:\\users\\hdev2\\onedrive - dna\\documents\\introtodeeplearning\\.venv\\lib\\site-packages (from tensorflow-intel==2.12.0->tensorflow->-r requirements.txt (line 14)) (1.14.1)\n",
            "Requirement already satisfied: grpcio<2.0,>=1.24.3 in c:\\users\\hdev2\\onedrive - dna\\documents\\introtodeeplearning\\.venv\\lib\\site-packages (from tensorflow-intel==2.12.0->tensorflow->-r requirements.txt (line 14)) (1.54.2)\n",
            "Requirement already satisfied: tensorboard<2.13,>=2.12 in c:\\users\\hdev2\\onedrive - dna\\documents\\introtodeeplearning\\.venv\\lib\\site-packages (from tensorflow-intel==2.12.0->tensorflow->-r requirements.txt (line 14)) (2.12.3)\n",
            "Requirement already satisfied: tensorflow-estimator<2.13,>=2.12.0 in c:\\users\\hdev2\\onedrive - dna\\documents\\introtodeeplearning\\.venv\\lib\\site-packages (from tensorflow-intel==2.12.0->tensorflow->-r requirements.txt (line 14)) (2.12.0)\n",
            "Requirement already satisfied: keras<2.13,>=2.12.0 in c:\\users\\hdev2\\onedrive - dna\\documents\\introtodeeplearning\\.venv\\lib\\site-packages (from tensorflow-intel==2.12.0->tensorflow->-r requirements.txt (line 14)) (2.12.0)\n",
            "Requirement already satisfied: tensorflow-io-gcs-filesystem>=0.23.1 in c:\\users\\hdev2\\onedrive - dna\\documents\\introtodeeplearning\\.venv\\lib\\site-packages (from tensorflow-intel==2.12.0->tensorflow->-r requirements.txt (line 14)) (0.31.0)\n",
            "Requirement already satisfied: regex in c:\\users\\hdev2\\onedrive - dna\\documents\\introtodeeplearning\\.venv\\lib\\site-packages (from mitdeeplearning->-r requirements.txt (line 16)) (2023.6.3)\n",
            "Requirement already satisfied: gym in c:\\users\\hdev2\\onedrive - dna\\documents\\introtodeeplearning\\.venv\\lib\\site-packages (from mitdeeplearning->-r requirements.txt (line 16)) (0.26.2)\n",
            "Requirement already satisfied: tenacity>=6.2.0 in c:\\users\\hdev2\\onedrive - dna\\documents\\introtodeeplearning\\.venv\\lib\\site-packages (from plotly->-r requirements.txt (line 17)) (8.2.2)\n",
            "Requirement already satisfied: joblib>=1.1.1 in c:\\users\\hdev2\\onedrive - dna\\documents\\introtodeeplearning\\.venv\\lib\\site-packages (from scikit-learn->-r requirements.txt (line 24)) (1.2.0)\n",
            "Requirement already satisfied: threadpoolctl>=2.0.0 in c:\\users\\hdev2\\onedrive - dna\\documents\\introtodeeplearning\\.venv\\lib\\site-packages (from scikit-learn->-r requirements.txt (line 24)) (3.1.0)\n",
            "Requirement already satisfied: requests in c:\\users\\hdev2\\onedrive - dna\\documents\\introtodeeplearning\\.venv\\lib\\site-packages (from nbdime->-r requirements.txt (line 26)) (2.31.0)\n",
            "Requirement already satisfied: GitPython!=2.1.4,!=2.1.5,!=2.1.6 in c:\\users\\hdev2\\onedrive - dna\\documents\\introtodeeplearning\\.venv\\lib\\site-packages (from nbdime->-r requirements.txt (line 26)) (3.1.31)\n",
            "Requirement already satisfied: jupyter-server in c:\\users\\hdev2\\onedrive - dna\\documents\\introtodeeplearning\\.venv\\lib\\site-packages (from nbdime->-r requirements.txt (line 26)) (2.6.0)\n",
            "Requirement already satisfied: jupyter-server-mathjax>=0.2.2 in c:\\users\\hdev2\\onedrive - dna\\documents\\introtodeeplearning\\.venv\\lib\\site-packages (from nbdime->-r requirements.txt (line 26)) (0.2.6)\n",
            "Requirement already satisfied: gitdb<5,>=4.0.1 in c:\\users\\hdev2\\onedrive - dna\\documents\\introtodeeplearning\\.venv\\lib\\site-packages (from GitPython!=2.1.4,!=2.1.5,!=2.1.6->nbdime->-r requirements.txt (line 26)) (4.0.10)\n",
            "Requirement already satisfied: zipp>=0.5 in c:\\users\\hdev2\\onedrive - dna\\documents\\introtodeeplearning\\.venv\\lib\\site-packages (from importlib-metadata>=1.4->watermark>=1.3.0->-r requirements.txt (line 12)) (3.15.0)\n",
            "Requirement already satisfied: comm>=0.1.1 in c:\\users\\hdev2\\onedrive - dna\\documents\\introtodeeplearning\\.venv\\lib\\site-packages (from ipykernel->jupyter>=1.0.0->-r requirements.txt (line 4)) (0.1.3)\n",
            "Requirement already satisfied: debugpy>=1.6.5 in c:\\users\\hdev2\\onedrive - dna\\documents\\introtodeeplearning\\.venv\\lib\\site-packages (from ipykernel->jupyter>=1.0.0->-r requirements.txt (line 4)) (1.6.7)\n",
            "Requirement already satisfied: psutil in c:\\users\\hdev2\\onedrive - dna\\documents\\introtodeeplearning\\.venv\\lib\\site-packages (from ipykernel->jupyter>=1.0.0->-r requirements.txt (line 4)) (5.9.5)\n",
            "Requirement already satisfied: parso<0.9.0,>=0.8.0 in c:\\users\\hdev2\\onedrive - dna\\documents\\introtodeeplearning\\.venv\\lib\\site-packages (from jedi>=0.16->ipython>=4.1.2->-r requirements.txt (line 3)) (0.8.3)\n",
            "Requirement already satisfied: MarkupSafe>=2.0 in c:\\users\\hdev2\\onedrive - dna\\documents\\introtodeeplearning\\.venv\\lib\\site-packages (from jinja2->notebook>=4.1.0->-r requirements.txt (line 6)) (2.1.3)\n",
            "Requirement already satisfied: platformdirs>=2.5 in c:\\users\\hdev2\\onedrive - dna\\documents\\introtodeeplearning\\.venv\\lib\\site-packages (from jupyter-core>=4.6.1->notebook>=4.1.0->-r requirements.txt (line 6)) (3.5.1)\n",
            "Requirement already satisfied: pywin32>=300 in c:\\users\\hdev2\\onedrive - dna\\documents\\introtodeeplearning\\.venv\\lib\\site-packages (from jupyter-core>=4.6.1->notebook>=4.1.0->-r requirements.txt (line 6)) (306)\n",
            "Requirement already satisfied: anyio>=3.1.0 in c:\\users\\hdev2\\onedrive - dna\\documents\\introtodeeplearning\\.venv\\lib\\site-packages (from jupyter-server->nbdime->-r requirements.txt (line 26)) (3.7.0)\n",
            "Requirement already satisfied: jupyter-events>=0.6.0 in c:\\users\\hdev2\\onedrive - dna\\documents\\introtodeeplearning\\.venv\\lib\\site-packages (from jupyter-server->nbdime->-r requirements.txt (line 26)) (0.6.3)\n",
            "Requirement already satisfied: jupyter-server-terminals in c:\\users\\hdev2\\onedrive - dna\\documents\\introtodeeplearning\\.venv\\lib\\site-packages (from jupyter-server->nbdime->-r requirements.txt (line 26)) (0.4.4)\n",
            "Requirement already satisfied: overrides in c:\\users\\hdev2\\onedrive - dna\\documents\\introtodeeplearning\\.venv\\lib\\site-packages (from jupyter-server->nbdime->-r requirements.txt (line 26)) (7.3.1)\n",
            "Requirement already satisfied: pywinpty in c:\\users\\hdev2\\onedrive - dna\\documents\\introtodeeplearning\\.venv\\lib\\site-packages (from jupyter-server->nbdime->-r requirements.txt (line 26)) (2.0.10)\n",
            "Requirement already satisfied: websocket-client in c:\\users\\hdev2\\onedrive - dna\\documents\\introtodeeplearning\\.venv\\lib\\site-packages (from jupyter-server->nbdime->-r requirements.txt (line 26)) (1.5.2)\n",
            "Requirement already satisfied: notebook-shim>=0.2.3 in c:\\users\\hdev2\\onedrive - dna\\documents\\introtodeeplearning\\.venv\\lib\\site-packages (from nbclassic>=0.4.7->notebook>=4.1.0->-r requirements.txt (line 6)) (0.2.3)\n",
            "Requirement already satisfied: beautifulsoup4 in c:\\users\\hdev2\\onedrive - dna\\documents\\introtodeeplearning\\.venv\\lib\\site-packages (from nbconvert->jupyter>=1.0.0->-r requirements.txt (line 4)) (4.12.2)\n",
            "Requirement already satisfied: bleach in c:\\users\\hdev2\\onedrive - dna\\documents\\introtodeeplearning\\.venv\\lib\\site-packages (from nbconvert->jupyter>=1.0.0->-r requirements.txt (line 4)) (6.0.0)\n",
            "Requirement already satisfied: defusedxml in c:\\users\\hdev2\\onedrive - dna\\documents\\introtodeeplearning\\.venv\\lib\\site-packages (from nbconvert->jupyter>=1.0.0->-r requirements.txt (line 4)) (0.7.1)\n",
            "Requirement already satisfied: jupyterlab-pygments in c:\\users\\hdev2\\onedrive - dna\\documents\\introtodeeplearning\\.venv\\lib\\site-packages (from nbconvert->jupyter>=1.0.0->-r requirements.txt (line 4)) (0.2.2)\n",
            "Requirement already satisfied: mistune<3,>=2.0.3 in c:\\users\\hdev2\\onedrive - dna\\documents\\introtodeeplearning\\.venv\\lib\\site-packages (from nbconvert->jupyter>=1.0.0->-r requirements.txt (line 4)) (2.0.5)\n",
            "Requirement already satisfied: nbclient>=0.5.0 in c:\\users\\hdev2\\onedrive - dna\\documents\\introtodeeplearning\\.venv\\lib\\site-packages (from nbconvert->jupyter>=1.0.0->-r requirements.txt (line 4)) (0.8.0)\n",
            "Requirement already satisfied: pandocfilters>=1.4.1 in c:\\users\\hdev2\\onedrive - dna\\documents\\introtodeeplearning\\.venv\\lib\\site-packages (from nbconvert->jupyter>=1.0.0->-r requirements.txt (line 4)) (1.5.0)\n",
            "Requirement already satisfied: tinycss2 in c:\\users\\hdev2\\onedrive - dna\\documents\\introtodeeplearning\\.venv\\lib\\site-packages (from nbconvert->jupyter>=1.0.0->-r requirements.txt (line 4)) (1.2.1)\n",
            "Requirement already satisfied: fastjsonschema in c:\\users\\hdev2\\onedrive - dna\\documents\\introtodeeplearning\\.venv\\lib\\site-packages (from nbformat->notebook>=4.1.0->-r requirements.txt (line 6)) (2.17.1)\n",
            "Requirement already satisfied: jsonschema>=2.6 in c:\\users\\hdev2\\onedrive - dna\\documents\\introtodeeplearning\\.venv\\lib\\site-packages (from nbformat->notebook>=4.1.0->-r requirements.txt (line 6)) (4.17.3)\n",
            "Requirement already satisfied: wcwidth in c:\\users\\hdev2\\onedrive - dna\\documents\\introtodeeplearning\\.venv\\lib\\site-packages (from prompt-toolkit!=3.0.37,<3.1.0,>=3.0.30->ipython>=4.1.2->-r requirements.txt (line 3)) (0.2.6)\n",
            "Requirement already satisfied: xmltodict in c:\\users\\hdev2\\onedrive - dna\\documents\\introtodeeplearning\\.venv\\lib\\site-packages (from py3nvml>=0.2->watermark>=1.3.0->-r requirements.txt (line 12)) (0.13.0)\n",
            "Requirement already satisfied: argon2-cffi-bindings in c:\\users\\hdev2\\onedrive - dna\\documents\\introtodeeplearning\\.venv\\lib\\site-packages (from argon2-cffi->notebook>=4.1.0->-r requirements.txt (line 6)) (21.2.0)\n",
            "Requirement already satisfied: cloudpickle>=1.2.0 in c:\\users\\hdev2\\onedrive - dna\\documents\\introtodeeplearning\\.venv\\lib\\site-packages (from gym->mitdeeplearning->-r requirements.txt (line 16)) (2.2.1)\n",
            "Requirement already satisfied: gym-notices>=0.0.4 in c:\\users\\hdev2\\onedrive - dna\\documents\\introtodeeplearning\\.venv\\lib\\site-packages (from gym->mitdeeplearning->-r requirements.txt (line 16)) (0.0.8)\n",
            "Requirement already satisfied: widgetsnbextension~=4.0.7 in c:\\users\\hdev2\\onedrive - dna\\documents\\introtodeeplearning\\.venv\\lib\\site-packages (from ipywidgets->jupyter>=1.0.0->-r requirements.txt (line 4)) (4.0.7)\n",
            "Requirement already satisfied: jupyterlab-widgets~=3.0.7 in c:\\users\\hdev2\\onedrive - dna\\documents\\introtodeeplearning\\.venv\\lib\\site-packages (from ipywidgets->jupyter>=1.0.0->-r requirements.txt (line 4)) (3.0.7)\n",
            "Requirement already satisfied: qtpy>=2.0.1 in c:\\users\\hdev2\\onedrive - dna\\documents\\introtodeeplearning\\.venv\\lib\\site-packages (from qtconsole->jupyter>=1.0.0->-r requirements.txt (line 4)) (2.3.1)\n",
            "Requirement already satisfied: charset-normalizer<4,>=2 in c:\\users\\hdev2\\onedrive - dna\\documents\\introtodeeplearning\\.venv\\lib\\site-packages (from requests->nbdime->-r requirements.txt (line 26)) (3.1.0)\n",
            "Requirement already satisfied: idna<4,>=2.5 in c:\\users\\hdev2\\onedrive - dna\\documents\\introtodeeplearning\\.venv\\lib\\site-packages (from requests->nbdime->-r requirements.txt (line 26)) (3.4)\n",
            "Requirement already satisfied: urllib3<3,>=1.21.1 in c:\\users\\hdev2\\onedrive - dna\\documents\\introtodeeplearning\\.venv\\lib\\site-packages (from requests->nbdime->-r requirements.txt (line 26)) (1.26.16)\n",
            "Requirement already satisfied: certifi>=2017.4.17 in c:\\users\\hdev2\\onedrive - dna\\documents\\introtodeeplearning\\.venv\\lib\\site-packages (from requests->nbdime->-r requirements.txt (line 26)) (2023.5.7)\n",
            "Requirement already satisfied: executing>=1.2.0 in c:\\users\\hdev2\\onedrive - dna\\documents\\introtodeeplearning\\.venv\\lib\\site-packages (from stack-data->ipython>=4.1.2->-r requirements.txt (line 3)) (1.2.0)\n",
            "Requirement already satisfied: asttokens>=2.1.0 in c:\\users\\hdev2\\onedrive - dna\\documents\\introtodeeplearning\\.venv\\lib\\site-packages (from stack-data->ipython>=4.1.2->-r requirements.txt (line 3)) (2.2.1)\n",
            "Requirement already satisfied: pure-eval in c:\\users\\hdev2\\onedrive - dna\\documents\\introtodeeplearning\\.venv\\lib\\site-packages (from stack-data->ipython>=4.1.2->-r requirements.txt (line 3)) (0.2.2)\n",
            "Requirement already satisfied: sniffio>=1.1 in c:\\users\\hdev2\\onedrive - dna\\documents\\introtodeeplearning\\.venv\\lib\\site-packages (from anyio>=3.1.0->jupyter-server->nbdime->-r requirements.txt (line 26)) (1.3.0)\n",
            "Requirement already satisfied: wheel<1.0,>=0.23.0 in c:\\users\\hdev2\\onedrive - dna\\documents\\introtodeeplearning\\.venv\\lib\\site-packages (from astunparse>=1.6.0->tensorflow-intel==2.12.0->tensorflow->-r requirements.txt (line 14)) (0.40.0)\n",
            "Requirement already satisfied: smmap<6,>=3.0.1 in c:\\users\\hdev2\\onedrive - dna\\documents\\introtodeeplearning\\.venv\\lib\\site-packages (from gitdb<5,>=4.0.1->GitPython!=2.1.4,!=2.1.5,!=2.1.6->nbdime->-r requirements.txt (line 26)) (5.0.0)\n",
            "Requirement already satisfied: ml-dtypes>=0.1.0 in c:\\users\\hdev2\\onedrive - dna\\documents\\introtodeeplearning\\.venv\\lib\\site-packages (from jax>=0.3.15->tensorflow-intel==2.12.0->tensorflow->-r requirements.txt (line 14)) (0.1.0)\n",
            "Requirement already satisfied: attrs>=17.4.0 in c:\\users\\hdev2\\onedrive - dna\\documents\\introtodeeplearning\\.venv\\lib\\site-packages (from jsonschema>=2.6->nbformat->notebook>=4.1.0->-r requirements.txt (line 6)) (23.1.0)\n",
            "Requirement already satisfied: pyrsistent!=0.17.0,!=0.17.1,!=0.17.2,>=0.14.0 in c:\\users\\hdev2\\onedrive - dna\\documents\\introtodeeplearning\\.venv\\lib\\site-packages (from jsonschema>=2.6->nbformat->notebook>=4.1.0->-r requirements.txt (line 6)) (0.19.3)\n",
            "Requirement already satisfied: python-json-logger>=2.0.4 in c:\\users\\hdev2\\onedrive - dna\\documents\\introtodeeplearning\\.venv\\lib\\site-packages (from jupyter-events>=0.6.0->jupyter-server->nbdime->-r requirements.txt (line 26)) (2.0.7)\n",
            "Requirement already satisfied: pyyaml>=5.3 in c:\\users\\hdev2\\onedrive - dna\\documents\\introtodeeplearning\\.venv\\lib\\site-packages (from jupyter-events>=0.6.0->jupyter-server->nbdime->-r requirements.txt (line 26)) (6.0)\n",
            "Requirement already satisfied: rfc3339-validator in c:\\users\\hdev2\\onedrive - dna\\documents\\introtodeeplearning\\.venv\\lib\\site-packages (from jupyter-events>=0.6.0->jupyter-server->nbdime->-r requirements.txt (line 26)) (0.1.4)\n",
            "Requirement already satisfied: rfc3986-validator>=0.1.1 in c:\\users\\hdev2\\onedrive - dna\\documents\\introtodeeplearning\\.venv\\lib\\site-packages (from jupyter-events>=0.6.0->jupyter-server->nbdime->-r requirements.txt (line 26)) (0.1.1)\n",
            "Requirement already satisfied: google-auth<3,>=1.6.3 in c:\\users\\hdev2\\onedrive - dna\\documents\\introtodeeplearning\\.venv\\lib\\site-packages (from tensorboard<2.13,>=2.12->tensorflow-intel==2.12.0->tensorflow->-r requirements.txt (line 14)) (2.19.1)\n",
            "Requirement already satisfied: google-auth-oauthlib<1.1,>=0.5 in c:\\users\\hdev2\\onedrive - dna\\documents\\introtodeeplearning\\.venv\\lib\\site-packages (from tensorboard<2.13,>=2.12->tensorflow-intel==2.12.0->tensorflow->-r requirements.txt (line 14)) (1.0.0)\n",
            "Requirement already satisfied: markdown>=2.6.8 in c:\\users\\hdev2\\onedrive - dna\\documents\\introtodeeplearning\\.venv\\lib\\site-packages (from tensorboard<2.13,>=2.12->tensorflow-intel==2.12.0->tensorflow->-r requirements.txt (line 14)) (3.4.3)\n",
            "Requirement already satisfied: tensorboard-data-server<0.8.0,>=0.7.0 in c:\\users\\hdev2\\onedrive - dna\\documents\\introtodeeplearning\\.venv\\lib\\site-packages (from tensorboard<2.13,>=2.12->tensorflow-intel==2.12.0->tensorflow->-r requirements.txt (line 14)) (0.7.0)\n",
            "Requirement already satisfied: werkzeug>=1.0.1 in c:\\users\\hdev2\\onedrive - dna\\documents\\introtodeeplearning\\.venv\\lib\\site-packages (from tensorboard<2.13,>=2.12->tensorflow-intel==2.12.0->tensorflow->-r requirements.txt (line 14)) (2.3.4)\n",
            "Requirement already satisfied: cffi>=1.0.1 in c:\\users\\hdev2\\onedrive - dna\\documents\\introtodeeplearning\\.venv\\lib\\site-packages (from argon2-cffi-bindings->argon2-cffi->notebook>=4.1.0->-r requirements.txt (line 6)) (1.15.1)\n",
            "Requirement already satisfied: soupsieve>1.2 in c:\\users\\hdev2\\onedrive - dna\\documents\\introtodeeplearning\\.venv\\lib\\site-packages (from beautifulsoup4->nbconvert->jupyter>=1.0.0->-r requirements.txt (line 4)) (2.4.1)\n",
            "Requirement already satisfied: webencodings in c:\\users\\hdev2\\onedrive - dna\\documents\\introtodeeplearning\\.venv\\lib\\site-packages (from bleach->nbconvert->jupyter>=1.0.0->-r requirements.txt (line 4)) (0.5.1)\n",
            "Requirement already satisfied: pycparser in c:\\users\\hdev2\\onedrive - dna\\documents\\introtodeeplearning\\.venv\\lib\\site-packages (from cffi>=1.0.1->argon2-cffi-bindings->argon2-cffi->notebook>=4.1.0->-r requirements.txt (line 6)) (2.21)\n",
            "Requirement already satisfied: cachetools<6.0,>=2.0.0 in c:\\users\\hdev2\\onedrive - dna\\documents\\introtodeeplearning\\.venv\\lib\\site-packages (from google-auth<3,>=1.6.3->tensorboard<2.13,>=2.12->tensorflow-intel==2.12.0->tensorflow->-r requirements.txt (line 14)) (5.3.1)\n",
            "Requirement already satisfied: pyasn1-modules>=0.2.1 in c:\\users\\hdev2\\onedrive - dna\\documents\\introtodeeplearning\\.venv\\lib\\site-packages (from google-auth<3,>=1.6.3->tensorboard<2.13,>=2.12->tensorflow-intel==2.12.0->tensorflow->-r requirements.txt (line 14)) (0.3.0)\n",
            "Requirement already satisfied: rsa<5,>=3.1.4 in c:\\users\\hdev2\\onedrive - dna\\documents\\introtodeeplearning\\.venv\\lib\\site-packages (from google-auth<3,>=1.6.3->tensorboard<2.13,>=2.12->tensorflow-intel==2.12.0->tensorflow->-r requirements.txt (line 14)) (4.9)\n",
            "Requirement already satisfied: requests-oauthlib>=0.7.0 in c:\\users\\hdev2\\onedrive - dna\\documents\\introtodeeplearning\\.venv\\lib\\site-packages (from google-auth-oauthlib<1.1,>=0.5->tensorboard<2.13,>=2.12->tensorflow-intel==2.12.0->tensorflow->-r requirements.txt (line 14)) (1.3.1)\n",
            "Requirement already satisfied: fqdn in c:\\users\\hdev2\\onedrive - dna\\documents\\introtodeeplearning\\.venv\\lib\\site-packages (from jsonschema>=2.6->nbformat->notebook>=4.1.0->-r requirements.txt (line 6)) (1.5.1)\n",
            "Requirement already satisfied: isoduration in c:\\users\\hdev2\\onedrive - dna\\documents\\introtodeeplearning\\.venv\\lib\\site-packages (from jsonschema>=2.6->nbformat->notebook>=4.1.0->-r requirements.txt (line 6)) (20.11.0)\n",
            "Requirement already satisfied: jsonpointer>1.13 in c:\\users\\hdev2\\onedrive - dna\\documents\\introtodeeplearning\\.venv\\lib\\site-packages (from jsonschema>=2.6->nbformat->notebook>=4.1.0->-r requirements.txt (line 6)) (2.3)\n",
            "Requirement already satisfied: uri-template in c:\\users\\hdev2\\onedrive - dna\\documents\\introtodeeplearning\\.venv\\lib\\site-packages (from jsonschema>=2.6->nbformat->notebook>=4.1.0->-r requirements.txt (line 6)) (1.2.0)\n",
            "Requirement already satisfied: webcolors>=1.11 in c:\\users\\hdev2\\onedrive - dna\\documents\\introtodeeplearning\\.venv\\lib\\site-packages (from jsonschema>=2.6->nbformat->notebook>=4.1.0->-r requirements.txt (line 6)) (1.13)\n",
            "Requirement already satisfied: pyasn1<0.6.0,>=0.4.6 in c:\\users\\hdev2\\onedrive - dna\\documents\\introtodeeplearning\\.venv\\lib\\site-packages (from pyasn1-modules>=0.2.1->google-auth<3,>=1.6.3->tensorboard<2.13,>=2.12->tensorflow-intel==2.12.0->tensorflow->-r requirements.txt (line 14)) (0.5.0)\n",
            "Requirement already satisfied: oauthlib>=3.0.0 in c:\\users\\hdev2\\onedrive - dna\\documents\\introtodeeplearning\\.venv\\lib\\site-packages (from requests-oauthlib>=0.7.0->google-auth-oauthlib<1.1,>=0.5->tensorboard<2.13,>=2.12->tensorflow-intel==2.12.0->tensorflow->-r requirements.txt (line 14)) (3.2.2)\n",
            "Requirement already satisfied: arrow>=0.15.0 in c:\\users\\hdev2\\onedrive - dna\\documents\\introtodeeplearning\\.venv\\lib\\site-packages (from isoduration->jsonschema>=2.6->nbformat->notebook>=4.1.0->-r requirements.txt (line 6)) (1.2.3)\n",
            "Installing collected packages: opencv-python\n",
            "Successfully installed opencv-python-4.7.0.72\n"
          ]
        }
      ],
      "source": [
        "!pip install -r \"requirements.txt\""
      ]
    },
    {
      "cell_type": "code",
      "execution_count": 24,
      "metadata": {
        "id": "LkaimNJfYZ2w"
      },
      "outputs": [
        {
          "name": "stdout",
          "output_type": "stream",
          "text": [
            "Requirement already satisfied: mitdeeplearning in c:\\users\\hdev2\\onedrive - dna\\documents\\introtodeeplearning\\.venv\\lib\\site-packages (0.3.0)\n",
            "Requirement already satisfied: numpy in c:\\users\\hdev2\\onedrive - dna\\documents\\introtodeeplearning\\.venv\\lib\\site-packages (from mitdeeplearning) (1.23.5)\n",
            "Requirement already satisfied: regex in c:\\users\\hdev2\\onedrive - dna\\documents\\introtodeeplearning\\.venv\\lib\\site-packages (from mitdeeplearning) (2023.6.3)\n",
            "Requirement already satisfied: tqdm in c:\\users\\hdev2\\onedrive - dna\\documents\\introtodeeplearning\\.venv\\lib\\site-packages (from mitdeeplearning) (4.65.0)\n",
            "Requirement already satisfied: gym in c:\\users\\hdev2\\onedrive - dna\\documents\\introtodeeplearning\\.venv\\lib\\site-packages (from mitdeeplearning) (0.26.2)\n",
            "Requirement already satisfied: cloudpickle>=1.2.0 in c:\\users\\hdev2\\onedrive - dna\\documents\\introtodeeplearning\\.venv\\lib\\site-packages (from gym->mitdeeplearning) (2.2.1)\n",
            "Requirement already satisfied: gym-notices>=0.0.4 in c:\\users\\hdev2\\onedrive - dna\\documents\\introtodeeplearning\\.venv\\lib\\site-packages (from gym->mitdeeplearning) (0.0.8)\n",
            "Requirement already satisfied: colorama in c:\\users\\hdev2\\onedrive - dna\\documents\\introtodeeplearning\\.venv\\lib\\site-packages (from tqdm->mitdeeplearning) (0.4.6)\n"
          ]
        }
      ],
      "source": [
        "#  %tensorflow_version 2.x\n",
        "import tensorflow as tf\n",
        "\n",
        "# Download and import the MIT Introduction to Deep Learning package\n",
        "!pip install mitdeeplearning\n",
        "import mitdeeplearning as mdl\n",
        "\n",
        "import numpy as np\n",
        "import matplotlib.pyplot as plt"
      ]
    },
    {
      "attachments": {},
      "cell_type": "markdown",
      "metadata": {
        "id": "2QNMcdP4m3Vs"
      },
      "source": [
        "## 1.1 Why is TensorFlow called TensorFlow?\n",
        "\n",
        "TensorFlow is called 'TensorFlow' because it handles the flow (node/mathematical operation) of Tensors, which are data structures that you can think of as multi-dimensional arrays. Tensors are represented as n-dimensional arrays of base dataypes such as a string or integer -- they provide a way to generalize vectors and matrices to higher dimensions.\n",
        "\n",
        "The ```shape``` of a Tensor defines its number of dimensions and the size of each dimension. The ```rank``` of a Tensor provides the number of dimensions (n-dimensions) -- you can also think of this as the Tensor's order or degree.\n",
        "\n",
        "Let's first look at 0-d Tensors, of which a scalar is an example:"
      ]
    },
    {
      "cell_type": "code",
      "execution_count": 25,
      "metadata": {
        "id": "tFxztZQInlAB"
      },
      "outputs": [
        {
          "name": "stdout",
          "output_type": "stream",
          "text": [
            "`sport` is a 0-d Tensor\n",
            "`number` is a 0-d Tensor\n"
          ]
        }
      ],
      "source": [
        "sport = tf.constant(\"Tennis\", tf.string)\n",
        "number = tf.constant(1.41421356237, tf.float64)\n",
        "\n",
        "print(\"`sport` is a {}-d Tensor\".format(tf.rank(sport).numpy()))\n",
        "print(\"`number` is a {}-d Tensor\".format(tf.rank(number).numpy()))"
      ]
    },
    {
      "attachments": {},
      "cell_type": "markdown",
      "metadata": {
        "id": "-dljcPUcoJZ6"
      },
      "source": [
        "Vectors and lists can be used to create 1-d Tensors:"
      ]
    },
    {
      "cell_type": "code",
      "execution_count": null,
      "metadata": {
        "id": "oaHXABe8oPcO"
      },
      "outputs": [],
      "source": [
        "sports = tf.constant([\"Tennis\", \"Basketball\"], tf.string)\n",
        "numbers = tf.constant([3.141592, 1.414213, 2.71821], tf.float64)\n",
        "\n",
        "print(\"`sports` is a {}-d Tensor with shape: {}\".format(tf.rank(sports).numpy(), tf.shape(sports)))\n",
        "print(\"`numbers` is a {}-d Tensor with shape: {}\".format(tf.rank(numbers).numpy(), tf.shape(numbers)))"
      ]
    },
    {
      "attachments": {},
      "cell_type": "markdown",
      "metadata": {
        "id": "gvffwkvtodLP"
      },
      "source": [
        "Next we consider creating 2-d (i.e., matrices) and higher-rank Tensors. For examples, in future labs involving image processing and computer vision, we will use 4-d Tensors. Here the dimensions correspond to the number of example images in our batch, image height, image width, and the number of color channels."
      ]
    },
    {
      "cell_type": "code",
      "execution_count": null,
      "metadata": {
        "id": "tFeBBe1IouS3"
      },
      "outputs": [],
      "source": [
        "### Defining higher-order Tensors ###\n",
        "\n",
        "'''TODO: Define a 2-d Tensor'''\n",
        "matrix = # TODO\n",
        "\n",
        "assert isinstance(matrix, tf.Tensor), \"matrix must be a tf Tensor object\"\n",
        "assert tf.rank(matrix).numpy() == 2"
      ]
    },
    {
      "cell_type": "code",
      "execution_count": null,
      "metadata": {
        "id": "Zv1fTn_Ya_cz"
      },
      "outputs": [],
      "source": [
        "'''TODO: Define a 4-d Tensor.'''\n",
        "# Use tf.zeros to initialize a 4-d Tensor of zeros with size 10 x 256 x 256 x 3. \n",
        "#   You can think of this as 10 images where each image is RGB 256 x 256.\n",
        "images = # TODO\n",
        "\n",
        "assert isinstance(images, tf.Tensor), \"matrix must be a tf Tensor object\"\n",
        "assert tf.rank(images).numpy() == 4, \"matrix must be of rank 4\"\n",
        "assert tf.shape(images).numpy().tolist() == [10, 256, 256, 3], \"matrix is incorrect shape\""
      ]
    },
    {
      "attachments": {},
      "cell_type": "markdown",
      "metadata": {
        "id": "wkaCDOGapMyl"
      },
      "source": [
        "As you have seen, the ```shape``` of a Tensor provides the number of elements in each Tensor dimension. The ```shape``` is quite useful, and we'll use it often. You can also use slicing to access subtensors within a higher-rank Tensor:"
      ]
    },
    {
      "cell_type": "code",
      "execution_count": null,
      "metadata": {
        "id": "FhaufyObuLEG"
      },
      "outputs": [],
      "source": [
        "row_vector = matrix[1]\n",
        "column_vector = matrix[:,1]\n",
        "scalar = matrix[0, 1]\n",
        "\n",
        "print(\"`row_vector`: {}\".format(row_vector.numpy()))\n",
        "print(\"`column_vector`: {}\".format(column_vector.numpy()))\n",
        "print(\"`scalar`: {}\".format(scalar.numpy()))"
      ]
    },
    {
      "attachments": {},
      "cell_type": "markdown",
      "metadata": {
        "id": "iD3VO-LZYZ2z"
      },
      "source": [
        "## 1.2 Computations on Tensors\n",
        "\n",
        "A convenient way to think about and visualize computations in TensorFlow is in terms of graphs. We can define this graph in terms of Tensors, which hold data, and the mathematical operations that act on these Tensors in some order. Let's look at a simple example, and define this computation using TensorFlow:\n",
        "\n",
        "![alt text](https://raw.githubusercontent.com/aamini/introtodeeplearning/master/lab1/img/add-graph.png)"
      ]
    },
    {
      "cell_type": "code",
      "execution_count": null,
      "metadata": {
        "id": "X_YJrZsxYZ2z"
      },
      "outputs": [],
      "source": [
        "# Create the nodes in the graph, and initialize values\n",
        "a = tf.constant(15)\n",
        "b = tf.constant(61)\n",
        "\n",
        "# Add them!\n",
        "c1 = tf.add(a,b)\n",
        "c2 = a + b # TensorFlow overrides the \"+\" operation so that it is able to act on Tensors\n",
        "print(c1)\n",
        "print(c2)"
      ]
    },
    {
      "attachments": {},
      "cell_type": "markdown",
      "metadata": {
        "id": "Mbfv_QOiYZ23"
      },
      "source": [
        "Notice how we've created a computation graph consisting of TensorFlow operations, and how  the output is a Tensor with value 76 -- we've just created a computation graph consisting of operations, and it's executed them and given us back the result.\n",
        "\n",
        "Now let's consider a slightly more complicated example:\n",
        "\n",
        "![alt text](https://raw.githubusercontent.com/aamini/introtodeeplearning/master/lab1/img/computation-graph.png)\n",
        "\n",
        "Here, we take two inputs, `a, b`, and compute an output `e`. Each node in the graph represents an operation that takes some input, does some computation, and passes its output to another node.\n",
        "\n",
        "Let's define a simple function in TensorFlow to construct this computation function:"
      ]
    },
    {
      "cell_type": "code",
      "execution_count": null,
      "metadata": {
        "id": "PJnfzpWyYZ23",
        "scrolled": true
      },
      "outputs": [],
      "source": [
        "### Defining Tensor computations ###\n",
        "\n",
        "# Construct a simple computation function\n",
        "def func(a,b):\n",
        "  '''TODO: Define the operation for c, d, e (use tf.add, tf.subtract, tf.multiply).'''\n",
        "  c = # TODO\n",
        "  d = # TODO\n",
        "  e = # TODO\n",
        "  return e"
      ]
    },
    {
      "attachments": {},
      "cell_type": "markdown",
      "metadata": {
        "id": "AwrRfDMS2-oy"
      },
      "source": [
        "Now, we can call this function to execute the computation graph given some inputs `a,b`:"
      ]
    },
    {
      "cell_type": "code",
      "execution_count": null,
      "metadata": {
        "id": "pnwsf8w2uF7p"
      },
      "outputs": [],
      "source": [
        "# Consider example values for a,b\n",
        "a, b = 1.5, 2.5\n",
        "# Execute the computation\n",
        "e_out = func(a,b)\n",
        "print(e_out)"
      ]
    },
    {
      "attachments": {},
      "cell_type": "markdown",
      "metadata": {
        "id": "6HqgUIUhYZ29"
      },
      "source": [
        "Notice how our output is a Tensor with value defined by the output of the computation, and that the output has no shape as it is a single scalar value."
      ]
    },
    {
      "attachments": {},
      "cell_type": "markdown",
      "metadata": {
        "id": "1h4o9Bb0YZ29"
      },
      "source": [
        "## 1.3 Neural networks in TensorFlow\n",
        "We can also define neural networks in TensorFlow. TensorFlow uses a high-level API called [Keras](https://www.tensorflow.org/guide/keras) that provides a powerful, intuitive framework for building and training deep learning models.\n",
        "\n",
        "Let's first consider the example of a simple perceptron defined by just one dense layer: $ y = \\sigma(Wx + b)$, where $W$ represents a matrix of weights, $b$ is a bias, $x$ is the input, $\\sigma$ is the sigmoid activation function, and $y$ is the output. We can also visualize this operation using a graph: \n",
        "\n",
        "![alt text](https://raw.githubusercontent.com/aamini/introtodeeplearning/master/lab1/img/computation-graph-2.png)\n",
        "\n",
        "Tensors can flow through abstract types called [```Layers```](https://www.tensorflow.org/api_docs/python/tf/keras/layers/Layer) -- the building blocks of neural networks. ```Layers``` implement common neural networks operations, and are used to update weights, compute losses, and define inter-layer connectivity. We will first define a ```Layer``` to implement the simple perceptron defined above."
      ]
    },
    {
      "cell_type": "code",
      "execution_count": null,
      "metadata": {
        "id": "HutbJk-1kHPh"
      },
      "outputs": [],
      "source": [
        "### Defining a network Layer ###\n",
        "\n",
        "# n_output_nodes: number of output nodes\n",
        "# input_shape: shape of the input\n",
        "# x: input to the layer\n",
        "\n",
        "class OurDenseLayer(tf.keras.layers.Layer):\n",
        "  def __init__(self, n_output_nodes):\n",
        "    super(OurDenseLayer, self).__init__()\n",
        "    self.n_output_nodes = n_output_nodes\n",
        "\n",
        "  def build(self, input_shape):\n",
        "    d = int(input_shape[-1])\n",
        "    # Define and initialize parameters: a weight matrix W and bias b\n",
        "    # Note that parameter initialization is random!\n",
        "    self.W = self.add_weight(\"weight\", shape=[d, self.n_output_nodes]) # note the dimensionality\n",
        "    self.b = self.add_weight(\"bias\", shape=[1, self.n_output_nodes]) # note the dimensionality\n",
        "\n",
        "  def call(self, x):\n",
        "    '''TODO: define the operation for z (hint: use tf.matmul)'''\n",
        "    z = # TODO\n",
        "\n",
        "    '''TODO: define the operation for out (hint: use tf.sigmoid)'''\n",
        "    y = # TODO\n",
        "    return y\n",
        "\n",
        "# Since layer parameters are initialized randomly, we will set a random seed for reproducibility\n",
        "tf.random.set_seed(1)\n",
        "layer = OurDenseLayer(3)\n",
        "layer.build((1,2))\n",
        "x_input = tf.constant([[1,2.]], shape=(1,2))\n",
        "y = layer.call(x_input)\n",
        "\n",
        "# test the output!\n",
        "print(y.numpy())\n",
        "mdl.lab1.test_custom_dense_layer_output(y)"
      ]
    },
    {
      "attachments": {},
      "cell_type": "markdown",
      "metadata": {
        "id": "Jt1FgM7qYZ3D"
      },
      "source": [
        "Conveniently, TensorFlow has defined a number of ```Layers``` that are commonly used in neural networks, for example a [```Dense```](https://www.tensorflow.org/api_docs/python/tf/keras/layers/Dense?version=stable). Now, instead of using a single ```Layer``` to define our simple neural network, we'll use the  [`Sequential`](https://www.tensorflow.org/versions/r2.0/api_docs/python/tf/keras/Sequential) model from Keras and a single [`Dense` ](https://www.tensorflow.org/versions/r2.0/api_docs/python/tf/keras/layers/Dense) layer to define our network. With the `Sequential` API, you can readily create neural networks by stacking together layers like building blocks. "
      ]
    },
    {
      "cell_type": "code",
      "execution_count": null,
      "metadata": {
        "id": "7WXTpmoL6TDz"
      },
      "outputs": [],
      "source": [
        "### Defining a neural network using the Sequential API ###\n",
        "\n",
        "# Import relevant packages\n",
        "from tensorflow.keras import Sequential\n",
        "from tensorflow.keras.layers import Dense\n",
        "\n",
        "# Define the number of outputs\n",
        "n_output_nodes = 3\n",
        "\n",
        "# First define the model \n",
        "model = Sequential()\n",
        "\n",
        "'''TODO: Define a dense (fully connected) layer to compute z'''\n",
        "# Remember: dense layers are defined by the parameters W and b!\n",
        "# You can read more about the initialization of W and b in the TF documentation :) \n",
        "# https://www.tensorflow.org/api_docs/python/tf/keras/layers/Dense?version=stable\n",
        "dense_layer = # TODO\n",
        "\n",
        "# Add the dense layer to the model\n",
        "model.add(dense_layer)\n"
      ]
    },
    {
      "attachments": {},
      "cell_type": "markdown",
      "metadata": {
        "id": "HDGcwYfUyR-U"
      },
      "source": [
        "That's it! We've defined our model using the Sequential API. Now, we can test it out using an example input:"
      ]
    },
    {
      "cell_type": "code",
      "execution_count": null,
      "metadata": {
        "id": "sg23OczByRDb"
      },
      "outputs": [],
      "source": [
        "# Test model with example input\n",
        "x_input = tf.constant([[1,2.]], shape=(1,2))\n",
        "\n",
        "'''TODO: feed input into the model and predict the output!'''\n",
        "model_output = # TODO\n",
        "print(model_output)"
      ]
    },
    {
      "attachments": {},
      "cell_type": "markdown",
      "metadata": {
        "id": "596NvsOOtr9F"
      },
      "source": [
        "In addition to defining models using the `Sequential` API, we can also define neural networks by directly subclassing the [`Model`](https://www.tensorflow.org/api_docs/python/tf/keras/Model?version=stable) class, which groups layers together to enable model training and inference. The `Model` class captures what we refer to as a \"model\" or as a \"network\". Using Subclassing, we can create a class for our model, and then define the forward pass through the network using the `call` function. Subclassing affords the flexibility to define custom layers, custom training loops, custom activation functions, and custom models. Let's define the same neural network as above now using Subclassing rather than the `Sequential` model."
      ]
    },
    {
      "cell_type": "code",
      "execution_count": null,
      "metadata": {
        "id": "K4aCflPVyViD"
      },
      "outputs": [],
      "source": [
        "### Defining a model using subclassing ###\n",
        "\n",
        "from tensorflow.keras import Model\n",
        "from tensorflow.keras.layers import Dense\n",
        "\n",
        "class SubclassModel(tf.keras.Model):\n",
        "\n",
        "  # In __init__, we define the Model's layers\n",
        "  def __init__(self, n_output_nodes):\n",
        "    super(SubclassModel, self).__init__()\n",
        "    '''TODO: Our model consists of a single Dense layer. Define this layer.''' \n",
        "    self.dense_layer = '''TODO: Dense Layer'''\n",
        "\n",
        "  # In the call function, we define the Model's forward pass.\n",
        "  def call(self, inputs):\n",
        "    return self.dense_layer(inputs)"
      ]
    },
    {
      "attachments": {},
      "cell_type": "markdown",
      "metadata": {
        "id": "U0-lwHDk4irB"
      },
      "source": [
        "Just like the model we built using the `Sequential` API, let's test out our `SubclassModel` using an example input.\n",
        "\n"
      ]
    },
    {
      "cell_type": "code",
      "execution_count": null,
      "metadata": {
        "id": "LhB34RA-4gXb"
      },
      "outputs": [],
      "source": [
        "n_output_nodes = 3\n",
        "model = SubclassModel(n_output_nodes)\n",
        "\n",
        "x_input = tf.constant([[1,2.]], shape=(1,2))\n",
        "\n",
        "print(model.call(x_input))"
      ]
    },
    {
      "attachments": {},
      "cell_type": "markdown",
      "metadata": {
        "id": "HTIFMJLAzsyE"
      },
      "source": [
        "Importantly, Subclassing affords us a lot of flexibility to define custom models. For example, we can use boolean arguments in the `call` function to specify different network behaviors, for example different behaviors during training and inference. Let's suppose under some instances we want our network to simply output the input, without any perturbation. We define a boolean argument `isidentity` to control this behavior:"
      ]
    },
    {
      "cell_type": "code",
      "execution_count": null,
      "metadata": {
        "id": "P7jzGX5D1xT5"
      },
      "outputs": [],
      "source": [
        "### Defining a model using subclassing and specifying custom behavior ###\n",
        "\n",
        "from tensorflow.keras import Model\n",
        "from tensorflow.keras.layers import Dense\n",
        "\n",
        "class IdentityModel(tf.keras.Model):\n",
        "\n",
        "  # As before, in __init__ we define the Model's layers\n",
        "  # Since our desired behavior involves the forward pass, this part is unchanged\n",
        "  def __init__(self, n_output_nodes):\n",
        "    super(IdentityModel, self).__init__()\n",
        "    self.dense_layer = tf.keras.layers.Dense(n_output_nodes, activation='sigmoid')\n",
        "\n",
        "  '''TODO: Implement the behavior where the network outputs the input, unchanged, \n",
        "      under control of the isidentity argument.'''\n",
        "  def call(self, inputs, isidentity=False):\n",
        "    x = self.dense_layer(inputs)\n",
        "    '''TODO: Implement identity behavior'''"
      ]
    },
    {
      "attachments": {},
      "cell_type": "markdown",
      "metadata": {
        "id": "Ku4rcCGx5T3y"
      },
      "source": [
        "Let's test this behavior:"
      ]
    },
    {
      "cell_type": "code",
      "execution_count": null,
      "metadata": {
        "id": "NzC0mgbk5dp2"
      },
      "outputs": [],
      "source": [
        "n_output_nodes = 3\n",
        "model = IdentityModel(n_output_nodes)\n",
        "\n",
        "x_input = tf.constant([[1,2.]], shape=(1,2))\n",
        "'''TODO: pass the input into the model and call with and without the input identity option.'''\n",
        "out_activate = # TODO\n",
        "out_identity = # TODO\n",
        "\n",
        "print(\"Network output with activation: {}; network identity output: {}\".format(out_activate.numpy(), out_identity.numpy()))"
      ]
    },
    {
      "attachments": {},
      "cell_type": "markdown",
      "metadata": {
        "id": "7V1dEqdk6VI5"
      },
      "source": [
        "Now that we have learned how to define `Layers` as well as neural networks in TensorFlow using both the `Sequential` and Subclassing APIs, we're ready to turn our attention to how to actually implement network training with backpropagation."
      ]
    },
    {
      "attachments": {},
      "cell_type": "markdown",
      "metadata": {
        "id": "dQwDhKn8kbO2"
      },
      "source": [
        "## 1.4 Automatic differentiation in TensorFlow\n",
        "\n",
        "[Automatic differentiation](https://en.wikipedia.org/wiki/Automatic_differentiation)\n",
        "is one of the most important parts of TensorFlow and is the backbone of training with \n",
        "[backpropagation](https://en.wikipedia.org/wiki/Backpropagation). We will use the TensorFlow GradientTape [`tf.GradientTape`](https://www.tensorflow.org/api_docs/python/tf/GradientTape?version=stable) to trace operations for computing gradients later. \n",
        "\n",
        "When a forward pass is made through the network, all forward-pass operations get recorded to a \"tape\"; then, to compute the gradient, the tape is played backwards. By default, the tape is discarded after it is played backwards; this means that a particular `tf.GradientTape` can only\n",
        "compute one gradient, and subsequent calls throw a runtime error. However, we can compute multiple gradients over the same computation by creating a ```persistent``` gradient tape. \n",
        "\n",
        "First, we will look at how we can compute gradients using GradientTape and access them for computation. We define the simple function $ y = x^2$ and compute the gradient:"
      ]
    },
    {
      "cell_type": "code",
      "execution_count": null,
      "metadata": {
        "id": "tdkqk8pw5yJM"
      },
      "outputs": [],
      "source": [
        "### Gradient computation with GradientTape ###\n",
        "\n",
        "# y = x^2\n",
        "# Example: x = 3.0\n",
        "x = tf.Variable(3.0)\n",
        "\n",
        "# Initiate the gradient tape\n",
        "with tf.GradientTape() as tape:\n",
        "  # Define the function\n",
        "  y = x * x\n",
        "# Access the gradient -- derivative of y with respect to x\n",
        "dy_dx = tape.gradient(y, x)\n",
        "\n",
        "assert dy_dx.numpy() == 6.0"
      ]
    },
    {
      "attachments": {},
      "cell_type": "markdown",
      "metadata": {
        "id": "JhU5metS5xF3"
      },
      "source": [
        "In training neural networks, we use differentiation and stochastic gradient descent (SGD) to optimize a loss function. Now that we have a sense of how `GradientTape` can be used to compute and access derivatives, we will look at an example where we use automatic differentiation and SGD to find the minimum of $L=(x-x_f)^2$. Here $x_f$ is a variable for a desired value we are trying to optimize for; $L$ represents a loss that we are trying to  minimize. While we can clearly solve this problem analytically ($x_{min}=x_f$), considering how we can compute this using `GradientTape` sets us up nicely for future labs where we use gradient descent to optimize entire neural network losses."
      ]
    },
    {
      "cell_type": "code",
      "execution_count": null,
      "metadata": {
        "attributes": {
          "classes": [
            "py"
          ],
          "id": ""
        },
        "id": "7g1yWiSXqEf-"
      },
      "outputs": [],
      "source": [
        "### Function minimization with automatic differentiation and SGD ###\n",
        "\n",
        "# Initialize a random value for our initial x\n",
        "x = tf.Variable([tf.random.normal([1])])\n",
        "print(\"Initializing x={}\".format(x.numpy()))\n",
        "\n",
        "learning_rate = 1e-2 # learning rate for SGD\n",
        "history = []\n",
        "# Define the target value\n",
        "x_f = 4\n",
        "\n",
        "# We will run SGD for a number of iterations. At each iteration, we compute the loss, \n",
        "#   compute the derivative of the loss with respect to x, and perform the SGD update.\n",
        "for i in range(500):\n",
        "  with tf.GradientTape() as tape:\n",
        "    '''TODO: define the loss as described above'''\n",
        "    loss = # TODO\n",
        "\n",
        "  # loss minimization using gradient tape\n",
        "  grad = tape.gradient(loss, x) # compute the derivative of the loss with respect to x\n",
        "  new_x = x - learning_rate*grad # sgd update\n",
        "  x.assign(new_x) # update the value of x\n",
        "  history.append(x.numpy()[0])\n",
        "\n",
        "# Plot the evolution of x as we optimize towards x_f!\n",
        "plt.plot(history)\n",
        "plt.plot([0, 500],[x_f,x_f])\n",
        "plt.legend(('Predicted', 'True'))\n",
        "plt.xlabel('Iteration')\n",
        "plt.ylabel('x value')"
      ]
    },
    {
      "attachments": {},
      "cell_type": "markdown",
      "metadata": {
        "id": "pC7czCwk3ceH"
      },
      "source": [
        "`GradientTape` provides an extremely flexible framework for automatic differentiation. In order to back propagate errors through a neural network, we track forward passes on the Tape, use this information to determine the gradients, and then use these gradients for optimization using SGD."
      ]
    }
  ],
  "metadata": {
    "accelerator": "GPU",
    "colab": {
      "collapsed_sections": [
        "WBk0ZDWY-ff8"
      ],
      "name": "Part1_TensorFlow.ipynb",
      "provenance": []
    },
    "kernelspec": {
      "display_name": "Python 3",
      "name": "python3"
    },
    "language_info": {
      "codemirror_mode": {
        "name": "ipython",
        "version": 3
      },
      "file_extension": ".py",
      "mimetype": "text/x-python",
      "name": "python",
      "nbconvert_exporter": "python",
      "pygments_lexer": "ipython3",
      "version": "3.11.3"
    }
  },
  "nbformat": 4,
  "nbformat_minor": 0
}
