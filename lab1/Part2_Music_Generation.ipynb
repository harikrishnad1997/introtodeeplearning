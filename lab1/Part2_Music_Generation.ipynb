{
  "cells": [
    {
      "attachments": {},
      "cell_type": "markdown",
      "metadata": {
        "id": "uoJsVjtCMunI"
      },
      "source": [
        "<table align=\"center\">\n",
        "  <td align=\"center\"><a target=\"_blank\" href=\"http://introtodeeplearning.com\">\n",
        "        <img src=\"https://i.ibb.co/Jr88sn2/mit.png\" style=\"padding-bottom:5px;\" />\n",
        "      Visit MIT Deep Learning</a></td>\n",
        "  <td align=\"center\"><a target=\"_blank\" href=\"https://colab.research.google.com/github/aamini/introtodeeplearning/blob/2023/lab1/Part2_Music_Generation.ipynb\">\n",
        "        <img src=\"https://i.ibb.co/2P3SLwK/colab.png\"  style=\"padding-bottom:5px;\" />Run in Google Colab</a></td>\n",
        "  <td align=\"center\"><a target=\"_blank\" href=\"https://github.com/aamini/introtodeeplearning/blob/2023/lab1/Part2_Music_Generation.ipynb\">\n",
        "        <img src=\"https://i.ibb.co/xfJbPmL/github.png\"  height=\"70px\" style=\"padding-bottom:5px;\"  />View Source on GitHub</a></td>\n",
        "</table>\n",
        "\n",
        "# Copyright Information"
      ]
    },
    {
      "cell_type": "code",
      "execution_count": null,
      "metadata": {
        "id": "bUik05YqMyCH"
      },
      "outputs": [],
      "source": [
        "# Copyright 2023 MIT Introduction to Deep Learning. All Rights Reserved.\n",
        "# \n",
        "# Licensed under the MIT License. You may not use this file except in compliance\n",
        "# with the License. Use and/or modification of this code outside of MIT Introduction\n",
        "# to Deep Learning must reference:\n",
        "#\n",
        "# © MIT Introduction to Deep Learning\n",
        "# http://introtodeeplearning.com\n",
        "#"
      ]
    },
    {
      "attachments": {},
      "cell_type": "markdown",
      "metadata": {
        "id": "O-97SDET3JG-"
      },
      "source": [
        "# Lab 1: Intro to TensorFlow and Music Generation with RNNs\n",
        "\n",
        "# Part 2: Music Generation with RNNs\n",
        "\n",
        "In this portion of the lab, we will explore building a Recurrent Neural Network (RNN) for music generation. We will train a model to learn the patterns in raw sheet music in [ABC notation](https://en.wikipedia.org/wiki/ABC_notation) and then use this model to generate new music. "
      ]
    },
    {
      "attachments": {},
      "cell_type": "markdown",
      "metadata": {
        "id": "rsvlBQYCrE4I"
      },
      "source": [
        "## 2.1 Dependencies \n",
        "First, let's download the course repository, install dependencies, and import the relevant packages we'll need for this lab."
      ]
    },
    {
      "cell_type": "code",
      "execution_count": 3,
      "metadata": {},
      "outputs": [
        {
          "name": "stdout",
          "output_type": "stream",
          "text": [
            "Requirement already satisfied: coverage>=4.0.3 in c:\\users\\hdev2\\onedrive - dna\\documents\\introtodeeplearning\\.venv\\lib\\site-packages (from -r C:\\Users\\hdev2\\OneDrive - DNA\\Documents\\introtodeeplearning\\requirements.txt (line 1)) (7.2.7)\n",
            "Requirement already satisfied: engarde>=0.3.1 in c:\\users\\hdev2\\onedrive - dna\\documents\\introtodeeplearning\\.venv\\lib\\site-packages (from -r C:\\Users\\hdev2\\OneDrive - DNA\\Documents\\introtodeeplearning\\requirements.txt (line 2)) (0.4.0)\n",
            "Requirement already satisfied: ipython>=4.1.2 in c:\\users\\hdev2\\onedrive - dna\\documents\\introtodeeplearning\\.venv\\lib\\site-packages (from -r C:\\Users\\hdev2\\OneDrive - DNA\\Documents\\introtodeeplearning\\requirements.txt (line 3)) (8.14.0)\n",
            "Requirement already satisfied: jupyter>=1.0.0 in c:\\users\\hdev2\\onedrive - dna\\documents\\introtodeeplearning\\.venv\\lib\\site-packages (from -r C:\\Users\\hdev2\\OneDrive - DNA\\Documents\\introtodeeplearning\\requirements.txt (line 4)) (1.0.0)\n",
            "Requirement already satisfied: matplotlib>=1.5.1 in c:\\users\\hdev2\\onedrive - dna\\documents\\introtodeeplearning\\.venv\\lib\\site-packages (from -r C:\\Users\\hdev2\\OneDrive - DNA\\Documents\\introtodeeplearning\\requirements.txt (line 5)) (3.7.1)\n",
            "Requirement already satisfied: notebook>=4.1.0 in c:\\users\\hdev2\\onedrive - dna\\documents\\introtodeeplearning\\.venv\\lib\\site-packages (from -r C:\\Users\\hdev2\\OneDrive - DNA\\Documents\\introtodeeplearning\\requirements.txt (line 6)) (6.5.4)\n",
            "Requirement already satisfied: numpy>=1.10.4 in c:\\users\\hdev2\\onedrive - dna\\documents\\introtodeeplearning\\.venv\\lib\\site-packages (from -r C:\\Users\\hdev2\\OneDrive - DNA\\Documents\\introtodeeplearning\\requirements.txt (line 7)) (1.23.5)\n",
            "Requirement already satisfied: pandas>=0.17.1 in c:\\users\\hdev2\\onedrive - dna\\documents\\introtodeeplearning\\.venv\\lib\\site-packages (from -r C:\\Users\\hdev2\\OneDrive - DNA\\Documents\\introtodeeplearning\\requirements.txt (line 8)) (2.0.2)\n",
            "Requirement already satisfied: seaborn>=0.7.0 in c:\\users\\hdev2\\onedrive - dna\\documents\\introtodeeplearning\\.venv\\lib\\site-packages (from -r C:\\Users\\hdev2\\OneDrive - DNA\\Documents\\introtodeeplearning\\requirements.txt (line 9)) (0.12.2)\n",
            "Requirement already satisfied: q>=2.6 in c:\\users\\hdev2\\onedrive - dna\\documents\\introtodeeplearning\\.venv\\lib\\site-packages (from -r C:\\Users\\hdev2\\OneDrive - DNA\\Documents\\introtodeeplearning\\requirements.txt (line 10)) (2.7)\n",
            "Requirement already satisfied: python-dotenv>=0.5.0 in c:\\users\\hdev2\\onedrive - dna\\documents\\introtodeeplearning\\.venv\\lib\\site-packages (from -r C:\\Users\\hdev2\\OneDrive - DNA\\Documents\\introtodeeplearning\\requirements.txt (line 11)) (1.0.0)\n",
            "Requirement already satisfied: watermark>=1.3.0 in c:\\users\\hdev2\\onedrive - dna\\documents\\introtodeeplearning\\.venv\\lib\\site-packages (from -r C:\\Users\\hdev2\\OneDrive - DNA\\Documents\\introtodeeplearning\\requirements.txt (line 12)) (2.4.2)\n",
            "Requirement already satisfied: pytest>=2.9.2 in c:\\users\\hdev2\\onedrive - dna\\documents\\introtodeeplearning\\.venv\\lib\\site-packages (from -r C:\\Users\\hdev2\\OneDrive - DNA\\Documents\\introtodeeplearning\\requirements.txt (line 13)) (7.3.1)\n",
            "Requirement already satisfied: tensorflow in c:\\users\\hdev2\\onedrive - dna\\documents\\introtodeeplearning\\.venv\\lib\\site-packages (from -r C:\\Users\\hdev2\\OneDrive - DNA\\Documents\\introtodeeplearning\\requirements.txt (line 14)) (2.12.0)\n",
            "Requirement already satisfied: mitdeeplearning in c:\\users\\hdev2\\onedrive - dna\\documents\\introtodeeplearning\\.venv\\lib\\site-packages (from -r C:\\Users\\hdev2\\OneDrive - DNA\\Documents\\introtodeeplearning\\requirements.txt (line 16)) (0.3.0)\n",
            "Requirement already satisfied: plotly in c:\\users\\hdev2\\onedrive - dna\\documents\\introtodeeplearning\\.venv\\lib\\site-packages (from -r C:\\Users\\hdev2\\OneDrive - DNA\\Documents\\introtodeeplearning\\requirements.txt (line 17)) (5.14.1)\n",
            "Requirement already satisfied: tqdm in c:\\users\\hdev2\\onedrive - dna\\documents\\introtodeeplearning\\.venv\\lib\\site-packages (from -r C:\\Users\\hdev2\\OneDrive - DNA\\Documents\\introtodeeplearning\\requirements.txt (line 18)) (4.65.0)\n",
            "Requirement already satisfied: opencv-python in c:\\users\\hdev2\\onedrive - dna\\documents\\introtodeeplearning\\.venv\\lib\\site-packages (from -r C:\\Users\\hdev2\\OneDrive - DNA\\Documents\\introtodeeplearning\\requirements.txt (line 19)) (4.7.0.72)\n",
            "Requirement already satisfied: scikit-learn in c:\\users\\hdev2\\onedrive - dna\\documents\\introtodeeplearning\\.venv\\lib\\site-packages (from -r C:\\Users\\hdev2\\OneDrive - DNA\\Documents\\introtodeeplearning\\requirements.txt (line 24)) (1.2.2)\n",
            "Requirement already satisfied: scipy in c:\\users\\hdev2\\onedrive - dna\\documents\\introtodeeplearning\\.venv\\lib\\site-packages (from -r C:\\Users\\hdev2\\OneDrive - DNA\\Documents\\introtodeeplearning\\requirements.txt (line 25)) (1.10.1)\n",
            "Requirement already satisfied: nbdime in c:\\users\\hdev2\\onedrive - dna\\documents\\introtodeeplearning\\.venv\\lib\\site-packages (from -r C:\\Users\\hdev2\\OneDrive - DNA\\Documents\\introtodeeplearning\\requirements.txt (line 26)) (3.2.1)\n",
            "Requirement already satisfied: runipy in c:\\users\\hdev2\\onedrive - dna\\documents\\introtodeeplearning\\.venv\\lib\\site-packages (from -r C:\\Users\\hdev2\\OneDrive - DNA\\Documents\\introtodeeplearning\\requirements.txt (line 27)) (0.1.5)\n",
            "Requirement already satisfied: six in c:\\users\\hdev2\\onedrive - dna\\documents\\introtodeeplearning\\.venv\\lib\\site-packages (from engarde>=0.3.1->-r C:\\Users\\hdev2\\OneDrive - DNA\\Documents\\introtodeeplearning\\requirements.txt (line 2)) (1.16.0)\n",
            "Requirement already satisfied: backcall in c:\\users\\hdev2\\onedrive - dna\\documents\\introtodeeplearning\\.venv\\lib\\site-packages (from ipython>=4.1.2->-r C:\\Users\\hdev2\\OneDrive - DNA\\Documents\\introtodeeplearning\\requirements.txt (line 3)) (0.2.0)\n",
            "Requirement already satisfied: decorator in c:\\users\\hdev2\\onedrive - dna\\documents\\introtodeeplearning\\.venv\\lib\\site-packages (from ipython>=4.1.2->-r C:\\Users\\hdev2\\OneDrive - DNA\\Documents\\introtodeeplearning\\requirements.txt (line 3)) (5.1.1)\n",
            "Requirement already satisfied: jedi>=0.16 in c:\\users\\hdev2\\onedrive - dna\\documents\\introtodeeplearning\\.venv\\lib\\site-packages (from ipython>=4.1.2->-r C:\\Users\\hdev2\\OneDrive - DNA\\Documents\\introtodeeplearning\\requirements.txt (line 3)) (0.18.2)\n",
            "Requirement already satisfied: matplotlib-inline in c:\\users\\hdev2\\onedrive - dna\\documents\\introtodeeplearning\\.venv\\lib\\site-packages (from ipython>=4.1.2->-r C:\\Users\\hdev2\\OneDrive - DNA\\Documents\\introtodeeplearning\\requirements.txt (line 3)) (0.1.6)\n",
            "Requirement already satisfied: pickleshare in c:\\users\\hdev2\\onedrive - dna\\documents\\introtodeeplearning\\.venv\\lib\\site-packages (from ipython>=4.1.2->-r C:\\Users\\hdev2\\OneDrive - DNA\\Documents\\introtodeeplearning\\requirements.txt (line 3)) (0.7.5)\n",
            "Requirement already satisfied: prompt-toolkit!=3.0.37,<3.1.0,>=3.0.30 in c:\\users\\hdev2\\onedrive - dna\\documents\\introtodeeplearning\\.venv\\lib\\site-packages (from ipython>=4.1.2->-r C:\\Users\\hdev2\\OneDrive - DNA\\Documents\\introtodeeplearning\\requirements.txt (line 3)) (3.0.38)\n",
            "Requirement already satisfied: pygments>=2.4.0 in c:\\users\\hdev2\\onedrive - dna\\documents\\introtodeeplearning\\.venv\\lib\\site-packages (from ipython>=4.1.2->-r C:\\Users\\hdev2\\OneDrive - DNA\\Documents\\introtodeeplearning\\requirements.txt (line 3)) (2.15.1)\n",
            "Requirement already satisfied: stack-data in c:\\users\\hdev2\\onedrive - dna\\documents\\introtodeeplearning\\.venv\\lib\\site-packages (from ipython>=4.1.2->-r C:\\Users\\hdev2\\OneDrive - DNA\\Documents\\introtodeeplearning\\requirements.txt (line 3)) (0.6.2)\n",
            "Requirement already satisfied: traitlets>=5 in c:\\users\\hdev2\\onedrive - dna\\documents\\introtodeeplearning\\.venv\\lib\\site-packages (from ipython>=4.1.2->-r C:\\Users\\hdev2\\OneDrive - DNA\\Documents\\introtodeeplearning\\requirements.txt (line 3)) (5.9.0)\n",
            "Requirement already satisfied: colorama in c:\\users\\hdev2\\onedrive - dna\\documents\\introtodeeplearning\\.venv\\lib\\site-packages (from ipython>=4.1.2->-r C:\\Users\\hdev2\\OneDrive - DNA\\Documents\\introtodeeplearning\\requirements.txt (line 3)) (0.4.6)\n",
            "Requirement already satisfied: qtconsole in c:\\users\\hdev2\\onedrive - dna\\documents\\introtodeeplearning\\.venv\\lib\\site-packages (from jupyter>=1.0.0->-r C:\\Users\\hdev2\\OneDrive - DNA\\Documents\\introtodeeplearning\\requirements.txt (line 4)) (5.4.3)\n",
            "Requirement already satisfied: jupyter-console in c:\\users\\hdev2\\onedrive - dna\\documents\\introtodeeplearning\\.venv\\lib\\site-packages (from jupyter>=1.0.0->-r C:\\Users\\hdev2\\OneDrive - DNA\\Documents\\introtodeeplearning\\requirements.txt (line 4)) (6.6.3)\n",
            "Requirement already satisfied: nbconvert in c:\\users\\hdev2\\onedrive - dna\\documents\\introtodeeplearning\\.venv\\lib\\site-packages (from jupyter>=1.0.0->-r C:\\Users\\hdev2\\OneDrive - DNA\\Documents\\introtodeeplearning\\requirements.txt (line 4)) (7.4.0)\n",
            "Requirement already satisfied: ipykernel in c:\\users\\hdev2\\onedrive - dna\\documents\\introtodeeplearning\\.venv\\lib\\site-packages (from jupyter>=1.0.0->-r C:\\Users\\hdev2\\OneDrive - DNA\\Documents\\introtodeeplearning\\requirements.txt (line 4)) (6.23.1)\n",
            "Requirement already satisfied: ipywidgets in c:\\users\\hdev2\\onedrive - dna\\documents\\introtodeeplearning\\.venv\\lib\\site-packages (from jupyter>=1.0.0->-r C:\\Users\\hdev2\\OneDrive - DNA\\Documents\\introtodeeplearning\\requirements.txt (line 4)) (8.0.6)\n",
            "Requirement already satisfied: contourpy>=1.0.1 in c:\\users\\hdev2\\onedrive - dna\\documents\\introtodeeplearning\\.venv\\lib\\site-packages (from matplotlib>=1.5.1->-r C:\\Users\\hdev2\\OneDrive - DNA\\Documents\\introtodeeplearning\\requirements.txt (line 5)) (1.0.7)\n",
            "Requirement already satisfied: cycler>=0.10 in c:\\users\\hdev2\\onedrive - dna\\documents\\introtodeeplearning\\.venv\\lib\\site-packages (from matplotlib>=1.5.1->-r C:\\Users\\hdev2\\OneDrive - DNA\\Documents\\introtodeeplearning\\requirements.txt (line 5)) (0.11.0)\n",
            "Requirement already satisfied: fonttools>=4.22.0 in c:\\users\\hdev2\\onedrive - dna\\documents\\introtodeeplearning\\.venv\\lib\\site-packages (from matplotlib>=1.5.1->-r C:\\Users\\hdev2\\OneDrive - DNA\\Documents\\introtodeeplearning\\requirements.txt (line 5)) (4.39.4)\n",
            "Requirement already satisfied: kiwisolver>=1.0.1 in c:\\users\\hdev2\\onedrive - dna\\documents\\introtodeeplearning\\.venv\\lib\\site-packages (from matplotlib>=1.5.1->-r C:\\Users\\hdev2\\OneDrive - DNA\\Documents\\introtodeeplearning\\requirements.txt (line 5)) (1.4.4)\n",
            "Requirement already satisfied: packaging>=20.0 in c:\\users\\hdev2\\onedrive - dna\\documents\\introtodeeplearning\\.venv\\lib\\site-packages (from matplotlib>=1.5.1->-r C:\\Users\\hdev2\\OneDrive - DNA\\Documents\\introtodeeplearning\\requirements.txt (line 5)) (23.1)\n",
            "Requirement already satisfied: pillow>=6.2.0 in c:\\users\\hdev2\\onedrive - dna\\documents\\introtodeeplearning\\.venv\\lib\\site-packages (from matplotlib>=1.5.1->-r C:\\Users\\hdev2\\OneDrive - DNA\\Documents\\introtodeeplearning\\requirements.txt (line 5)) (9.5.0)\n",
            "Requirement already satisfied: pyparsing>=2.3.1 in c:\\users\\hdev2\\onedrive - dna\\documents\\introtodeeplearning\\.venv\\lib\\site-packages (from matplotlib>=1.5.1->-r C:\\Users\\hdev2\\OneDrive - DNA\\Documents\\introtodeeplearning\\requirements.txt (line 5)) (3.0.9)\n",
            "Requirement already satisfied: python-dateutil>=2.7 in c:\\users\\hdev2\\onedrive - dna\\documents\\introtodeeplearning\\.venv\\lib\\site-packages (from matplotlib>=1.5.1->-r C:\\Users\\hdev2\\OneDrive - DNA\\Documents\\introtodeeplearning\\requirements.txt (line 5)) (2.8.2)\n",
            "Requirement already satisfied: jinja2 in c:\\users\\hdev2\\onedrive - dna\\documents\\introtodeeplearning\\.venv\\lib\\site-packages (from notebook>=4.1.0->-r C:\\Users\\hdev2\\OneDrive - DNA\\Documents\\introtodeeplearning\\requirements.txt (line 6)) (3.1.2)\n",
            "Requirement already satisfied: tornado>=6.1 in c:\\users\\hdev2\\onedrive - dna\\documents\\introtodeeplearning\\.venv\\lib\\site-packages (from notebook>=4.1.0->-r C:\\Users\\hdev2\\OneDrive - DNA\\Documents\\introtodeeplearning\\requirements.txt (line 6)) (6.3.2)\n",
            "Requirement already satisfied: pyzmq>=17 in c:\\users\\hdev2\\onedrive - dna\\documents\\introtodeeplearning\\.venv\\lib\\site-packages (from notebook>=4.1.0->-r C:\\Users\\hdev2\\OneDrive - DNA\\Documents\\introtodeeplearning\\requirements.txt (line 6)) (25.1.0)\n",
            "Requirement already satisfied: argon2-cffi in c:\\users\\hdev2\\onedrive - dna\\documents\\introtodeeplearning\\.venv\\lib\\site-packages (from notebook>=4.1.0->-r C:\\Users\\hdev2\\OneDrive - DNA\\Documents\\introtodeeplearning\\requirements.txt (line 6)) (21.3.0)\n",
            "Requirement already satisfied: jupyter-core>=4.6.1 in c:\\users\\hdev2\\onedrive - dna\\documents\\introtodeeplearning\\.venv\\lib\\site-packages (from notebook>=4.1.0->-r C:\\Users\\hdev2\\OneDrive - DNA\\Documents\\introtodeeplearning\\requirements.txt (line 6)) (5.3.0)\n",
            "Requirement already satisfied: jupyter-client>=5.3.4 in c:\\users\\hdev2\\onedrive - dna\\documents\\introtodeeplearning\\.venv\\lib\\site-packages (from notebook>=4.1.0->-r C:\\Users\\hdev2\\OneDrive - DNA\\Documents\\introtodeeplearning\\requirements.txt (line 6)) (8.2.0)\n",
            "Requirement already satisfied: ipython-genutils in c:\\users\\hdev2\\onedrive - dna\\documents\\introtodeeplearning\\.venv\\lib\\site-packages (from notebook>=4.1.0->-r C:\\Users\\hdev2\\OneDrive - DNA\\Documents\\introtodeeplearning\\requirements.txt (line 6)) (0.2.0)\n",
            "Requirement already satisfied: nbformat in c:\\users\\hdev2\\onedrive - dna\\documents\\introtodeeplearning\\.venv\\lib\\site-packages (from notebook>=4.1.0->-r C:\\Users\\hdev2\\OneDrive - DNA\\Documents\\introtodeeplearning\\requirements.txt (line 6)) (5.9.0)\n",
            "Requirement already satisfied: nest-asyncio>=1.5 in c:\\users\\hdev2\\onedrive - dna\\documents\\introtodeeplearning\\.venv\\lib\\site-packages (from notebook>=4.1.0->-r C:\\Users\\hdev2\\OneDrive - DNA\\Documents\\introtodeeplearning\\requirements.txt (line 6)) (1.5.6)\n",
            "Requirement already satisfied: Send2Trash>=1.8.0 in c:\\users\\hdev2\\onedrive - dna\\documents\\introtodeeplearning\\.venv\\lib\\site-packages (from notebook>=4.1.0->-r C:\\Users\\hdev2\\OneDrive - DNA\\Documents\\introtodeeplearning\\requirements.txt (line 6)) (1.8.2)\n",
            "Requirement already satisfied: terminado>=0.8.3 in c:\\users\\hdev2\\onedrive - dna\\documents\\introtodeeplearning\\.venv\\lib\\site-packages (from notebook>=4.1.0->-r C:\\Users\\hdev2\\OneDrive - DNA\\Documents\\introtodeeplearning\\requirements.txt (line 6)) (0.17.1)\n",
            "Requirement already satisfied: prometheus-client in c:\\users\\hdev2\\onedrive - dna\\documents\\introtodeeplearning\\.venv\\lib\\site-packages (from notebook>=4.1.0->-r C:\\Users\\hdev2\\OneDrive - DNA\\Documents\\introtodeeplearning\\requirements.txt (line 6)) (0.17.0)\n",
            "Requirement already satisfied: nbclassic>=0.4.7 in c:\\users\\hdev2\\onedrive - dna\\documents\\introtodeeplearning\\.venv\\lib\\site-packages (from notebook>=4.1.0->-r C:\\Users\\hdev2\\OneDrive - DNA\\Documents\\introtodeeplearning\\requirements.txt (line 6)) (1.0.0)\n",
            "Requirement already satisfied: pytz>=2020.1 in c:\\users\\hdev2\\onedrive - dna\\documents\\introtodeeplearning\\.venv\\lib\\site-packages (from pandas>=0.17.1->-r C:\\Users\\hdev2\\OneDrive - DNA\\Documents\\introtodeeplearning\\requirements.txt (line 8)) (2023.3)\n",
            "Requirement already satisfied: tzdata>=2022.1 in c:\\users\\hdev2\\onedrive - dna\\documents\\introtodeeplearning\\.venv\\lib\\site-packages (from pandas>=0.17.1->-r C:\\Users\\hdev2\\OneDrive - DNA\\Documents\\introtodeeplearning\\requirements.txt (line 8)) (2023.3)\n",
            "Requirement already satisfied: importlib-metadata>=1.4 in c:\\users\\hdev2\\onedrive - dna\\documents\\introtodeeplearning\\.venv\\lib\\site-packages (from watermark>=1.3.0->-r C:\\Users\\hdev2\\OneDrive - DNA\\Documents\\introtodeeplearning\\requirements.txt (line 12)) (6.6.0)\n",
            "Requirement already satisfied: py3nvml>=0.2 in c:\\users\\hdev2\\onedrive - dna\\documents\\introtodeeplearning\\.venv\\lib\\site-packages (from watermark>=1.3.0->-r C:\\Users\\hdev2\\OneDrive - DNA\\Documents\\introtodeeplearning\\requirements.txt (line 12)) (0.2.7)\n",
            "Requirement already satisfied: setuptools in c:\\users\\hdev2\\onedrive - dna\\documents\\introtodeeplearning\\.venv\\lib\\site-packages (from watermark>=1.3.0->-r C:\\Users\\hdev2\\OneDrive - DNA\\Documents\\introtodeeplearning\\requirements.txt (line 12)) (65.5.0)\n",
            "Requirement already satisfied: iniconfig in c:\\users\\hdev2\\onedrive - dna\\documents\\introtodeeplearning\\.venv\\lib\\site-packages (from pytest>=2.9.2->-r C:\\Users\\hdev2\\OneDrive - DNA\\Documents\\introtodeeplearning\\requirements.txt (line 13)) (2.0.0)\n",
            "Requirement already satisfied: pluggy<2.0,>=0.12 in c:\\users\\hdev2\\onedrive - dna\\documents\\introtodeeplearning\\.venv\\lib\\site-packages (from pytest>=2.9.2->-r C:\\Users\\hdev2\\OneDrive - DNA\\Documents\\introtodeeplearning\\requirements.txt (line 13)) (1.0.0)\n",
            "Requirement already satisfied: tensorflow-intel==2.12.0 in c:\\users\\hdev2\\onedrive - dna\\documents\\introtodeeplearning\\.venv\\lib\\site-packages (from tensorflow->-r C:\\Users\\hdev2\\OneDrive - DNA\\Documents\\introtodeeplearning\\requirements.txt (line 14)) (2.12.0)\n",
            "Requirement already satisfied: absl-py>=1.0.0 in c:\\users\\hdev2\\onedrive - dna\\documents\\introtodeeplearning\\.venv\\lib\\site-packages (from tensorflow-intel==2.12.0->tensorflow->-r C:\\Users\\hdev2\\OneDrive - DNA\\Documents\\introtodeeplearning\\requirements.txt (line 14)) (1.4.0)\n",
            "Requirement already satisfied: astunparse>=1.6.0 in c:\\users\\hdev2\\onedrive - dna\\documents\\introtodeeplearning\\.venv\\lib\\site-packages (from tensorflow-intel==2.12.0->tensorflow->-r C:\\Users\\hdev2\\OneDrive - DNA\\Documents\\introtodeeplearning\\requirements.txt (line 14)) (1.6.3)\n",
            "Requirement already satisfied: flatbuffers>=2.0 in c:\\users\\hdev2\\onedrive - dna\\documents\\introtodeeplearning\\.venv\\lib\\site-packages (from tensorflow-intel==2.12.0->tensorflow->-r C:\\Users\\hdev2\\OneDrive - DNA\\Documents\\introtodeeplearning\\requirements.txt (line 14)) (23.5.26)\n",
            "Requirement already satisfied: gast<=0.4.0,>=0.2.1 in c:\\users\\hdev2\\onedrive - dna\\documents\\introtodeeplearning\\.venv\\lib\\site-packages (from tensorflow-intel==2.12.0->tensorflow->-r C:\\Users\\hdev2\\OneDrive - DNA\\Documents\\introtodeeplearning\\requirements.txt (line 14)) (0.4.0)\n",
            "Requirement already satisfied: google-pasta>=0.1.1 in c:\\users\\hdev2\\onedrive - dna\\documents\\introtodeeplearning\\.venv\\lib\\site-packages (from tensorflow-intel==2.12.0->tensorflow->-r C:\\Users\\hdev2\\OneDrive - DNA\\Documents\\introtodeeplearning\\requirements.txt (line 14)) (0.2.0)\n",
            "Requirement already satisfied: h5py>=2.9.0 in c:\\users\\hdev2\\onedrive - dna\\documents\\introtodeeplearning\\.venv\\lib\\site-packages (from tensorflow-intel==2.12.0->tensorflow->-r C:\\Users\\hdev2\\OneDrive - DNA\\Documents\\introtodeeplearning\\requirements.txt (line 14)) (3.8.0)\n",
            "Requirement already satisfied: jax>=0.3.15 in c:\\users\\hdev2\\onedrive - dna\\documents\\introtodeeplearning\\.venv\\lib\\site-packages (from tensorflow-intel==2.12.0->tensorflow->-r C:\\Users\\hdev2\\OneDrive - DNA\\Documents\\introtodeeplearning\\requirements.txt (line 14)) (0.4.11)\n",
            "Requirement already satisfied: libclang>=13.0.0 in c:\\users\\hdev2\\onedrive - dna\\documents\\introtodeeplearning\\.venv\\lib\\site-packages (from tensorflow-intel==2.12.0->tensorflow->-r C:\\Users\\hdev2\\OneDrive - DNA\\Documents\\introtodeeplearning\\requirements.txt (line 14)) (16.0.0)\n",
            "Requirement already satisfied: opt-einsum>=2.3.2 in c:\\users\\hdev2\\onedrive - dna\\documents\\introtodeeplearning\\.venv\\lib\\site-packages (from tensorflow-intel==2.12.0->tensorflow->-r C:\\Users\\hdev2\\OneDrive - DNA\\Documents\\introtodeeplearning\\requirements.txt (line 14)) (3.3.0)\n",
            "Requirement already satisfied: protobuf!=4.21.0,!=4.21.1,!=4.21.2,!=4.21.3,!=4.21.4,!=4.21.5,<5.0.0dev,>=3.20.3 in c:\\users\\hdev2\\onedrive - dna\\documents\\introtodeeplearning\\.venv\\lib\\site-packages (from tensorflow-intel==2.12.0->tensorflow->-r C:\\Users\\hdev2\\OneDrive - DNA\\Documents\\introtodeeplearning\\requirements.txt (line 14)) (4.23.2)\n",
            "Requirement already satisfied: termcolor>=1.1.0 in c:\\users\\hdev2\\onedrive - dna\\documents\\introtodeeplearning\\.venv\\lib\\site-packages (from tensorflow-intel==2.12.0->tensorflow->-r C:\\Users\\hdev2\\OneDrive - DNA\\Documents\\introtodeeplearning\\requirements.txt (line 14)) (2.3.0)\n",
            "Requirement already satisfied: typing-extensions>=3.6.6 in c:\\users\\hdev2\\onedrive - dna\\documents\\introtodeeplearning\\.venv\\lib\\site-packages (from tensorflow-intel==2.12.0->tensorflow->-r C:\\Users\\hdev2\\OneDrive - DNA\\Documents\\introtodeeplearning\\requirements.txt (line 14)) (4.6.3)\n",
            "Requirement already satisfied: wrapt<1.15,>=1.11.0 in c:\\users\\hdev2\\onedrive - dna\\documents\\introtodeeplearning\\.venv\\lib\\site-packages (from tensorflow-intel==2.12.0->tensorflow->-r C:\\Users\\hdev2\\OneDrive - DNA\\Documents\\introtodeeplearning\\requirements.txt (line 14)) (1.14.1)\n",
            "Requirement already satisfied: grpcio<2.0,>=1.24.3 in c:\\users\\hdev2\\onedrive - dna\\documents\\introtodeeplearning\\.venv\\lib\\site-packages (from tensorflow-intel==2.12.0->tensorflow->-r C:\\Users\\hdev2\\OneDrive - DNA\\Documents\\introtodeeplearning\\requirements.txt (line 14)) (1.54.2)\n",
            "Requirement already satisfied: tensorboard<2.13,>=2.12 in c:\\users\\hdev2\\onedrive - dna\\documents\\introtodeeplearning\\.venv\\lib\\site-packages (from tensorflow-intel==2.12.0->tensorflow->-r C:\\Users\\hdev2\\OneDrive - DNA\\Documents\\introtodeeplearning\\requirements.txt (line 14)) (2.12.3)\n",
            "Requirement already satisfied: tensorflow-estimator<2.13,>=2.12.0 in c:\\users\\hdev2\\onedrive - dna\\documents\\introtodeeplearning\\.venv\\lib\\site-packages (from tensorflow-intel==2.12.0->tensorflow->-r C:\\Users\\hdev2\\OneDrive - DNA\\Documents\\introtodeeplearning\\requirements.txt (line 14)) (2.12.0)\n",
            "Requirement already satisfied: keras<2.13,>=2.12.0 in c:\\users\\hdev2\\onedrive - dna\\documents\\introtodeeplearning\\.venv\\lib\\site-packages (from tensorflow-intel==2.12.0->tensorflow->-r C:\\Users\\hdev2\\OneDrive - DNA\\Documents\\introtodeeplearning\\requirements.txt (line 14)) (2.12.0)\n",
            "Requirement already satisfied: tensorflow-io-gcs-filesystem>=0.23.1 in c:\\users\\hdev2\\onedrive - dna\\documents\\introtodeeplearning\\.venv\\lib\\site-packages (from tensorflow-intel==2.12.0->tensorflow->-r C:\\Users\\hdev2\\OneDrive - DNA\\Documents\\introtodeeplearning\\requirements.txt (line 14)) (0.31.0)\n",
            "Requirement already satisfied: regex in c:\\users\\hdev2\\onedrive - dna\\documents\\introtodeeplearning\\.venv\\lib\\site-packages (from mitdeeplearning->-r C:\\Users\\hdev2\\OneDrive - DNA\\Documents\\introtodeeplearning\\requirements.txt (line 16)) (2023.6.3)\n",
            "Requirement already satisfied: gym in c:\\users\\hdev2\\onedrive - dna\\documents\\introtodeeplearning\\.venv\\lib\\site-packages (from mitdeeplearning->-r C:\\Users\\hdev2\\OneDrive - DNA\\Documents\\introtodeeplearning\\requirements.txt (line 16)) (0.26.2)\n",
            "Requirement already satisfied: tenacity>=6.2.0 in c:\\users\\hdev2\\onedrive - dna\\documents\\introtodeeplearning\\.venv\\lib\\site-packages (from plotly->-r C:\\Users\\hdev2\\OneDrive - DNA\\Documents\\introtodeeplearning\\requirements.txt (line 17)) (8.2.2)\n",
            "Requirement already satisfied: joblib>=1.1.1 in c:\\users\\hdev2\\onedrive - dna\\documents\\introtodeeplearning\\.venv\\lib\\site-packages (from scikit-learn->-r C:\\Users\\hdev2\\OneDrive - DNA\\Documents\\introtodeeplearning\\requirements.txt (line 24)) (1.2.0)\n",
            "Requirement already satisfied: threadpoolctl>=2.0.0 in c:\\users\\hdev2\\onedrive - dna\\documents\\introtodeeplearning\\.venv\\lib\\site-packages (from scikit-learn->-r C:\\Users\\hdev2\\OneDrive - DNA\\Documents\\introtodeeplearning\\requirements.txt (line 24)) (3.1.0)\n",
            "Requirement already satisfied: requests in c:\\users\\hdev2\\onedrive - dna\\documents\\introtodeeplearning\\.venv\\lib\\site-packages (from nbdime->-r C:\\Users\\hdev2\\OneDrive - DNA\\Documents\\introtodeeplearning\\requirements.txt (line 26)) (2.31.0)\n",
            "Requirement already satisfied: GitPython!=2.1.4,!=2.1.5,!=2.1.6 in c:\\users\\hdev2\\onedrive - dna\\documents\\introtodeeplearning\\.venv\\lib\\site-packages (from nbdime->-r C:\\Users\\hdev2\\OneDrive - DNA\\Documents\\introtodeeplearning\\requirements.txt (line 26)) (3.1.31)\n",
            "Requirement already satisfied: jupyter-server in c:\\users\\hdev2\\onedrive - dna\\documents\\introtodeeplearning\\.venv\\lib\\site-packages (from nbdime->-r C:\\Users\\hdev2\\OneDrive - DNA\\Documents\\introtodeeplearning\\requirements.txt (line 26)) (2.6.0)\n",
            "Requirement already satisfied: jupyter-server-mathjax>=0.2.2 in c:\\users\\hdev2\\onedrive - dna\\documents\\introtodeeplearning\\.venv\\lib\\site-packages (from nbdime->-r C:\\Users\\hdev2\\OneDrive - DNA\\Documents\\introtodeeplearning\\requirements.txt (line 26)) (0.2.6)\n",
            "Requirement already satisfied: gitdb<5,>=4.0.1 in c:\\users\\hdev2\\onedrive - dna\\documents\\introtodeeplearning\\.venv\\lib\\site-packages (from GitPython!=2.1.4,!=2.1.5,!=2.1.6->nbdime->-r C:\\Users\\hdev2\\OneDrive - DNA\\Documents\\introtodeeplearning\\requirements.txt (line 26)) (4.0.10)\n",
            "Requirement already satisfied: zipp>=0.5 in c:\\users\\hdev2\\onedrive - dna\\documents\\introtodeeplearning\\.venv\\lib\\site-packages (from importlib-metadata>=1.4->watermark>=1.3.0->-r C:\\Users\\hdev2\\OneDrive - DNA\\Documents\\introtodeeplearning\\requirements.txt (line 12)) (3.15.0)\n",
            "Requirement already satisfied: comm>=0.1.1 in c:\\users\\hdev2\\onedrive - dna\\documents\\introtodeeplearning\\.venv\\lib\\site-packages (from ipykernel->jupyter>=1.0.0->-r C:\\Users\\hdev2\\OneDrive - DNA\\Documents\\introtodeeplearning\\requirements.txt (line 4)) (0.1.3)\n",
            "Requirement already satisfied: debugpy>=1.6.5 in c:\\users\\hdev2\\onedrive - dna\\documents\\introtodeeplearning\\.venv\\lib\\site-packages (from ipykernel->jupyter>=1.0.0->-r C:\\Users\\hdev2\\OneDrive - DNA\\Documents\\introtodeeplearning\\requirements.txt (line 4)) (1.6.7)\n",
            "Requirement already satisfied: psutil in c:\\users\\hdev2\\onedrive - dna\\documents\\introtodeeplearning\\.venv\\lib\\site-packages (from ipykernel->jupyter>=1.0.0->-r C:\\Users\\hdev2\\OneDrive - DNA\\Documents\\introtodeeplearning\\requirements.txt (line 4)) (5.9.5)\n",
            "Requirement already satisfied: parso<0.9.0,>=0.8.0 in c:\\users\\hdev2\\onedrive - dna\\documents\\introtodeeplearning\\.venv\\lib\\site-packages (from jedi>=0.16->ipython>=4.1.2->-r C:\\Users\\hdev2\\OneDrive - DNA\\Documents\\introtodeeplearning\\requirements.txt (line 3)) (0.8.3)\n",
            "Requirement already satisfied: MarkupSafe>=2.0 in c:\\users\\hdev2\\onedrive - dna\\documents\\introtodeeplearning\\.venv\\lib\\site-packages (from jinja2->notebook>=4.1.0->-r C:\\Users\\hdev2\\OneDrive - DNA\\Documents\\introtodeeplearning\\requirements.txt (line 6)) (2.1.3)\n",
            "Requirement already satisfied: platformdirs>=2.5 in c:\\users\\hdev2\\onedrive - dna\\documents\\introtodeeplearning\\.venv\\lib\\site-packages (from jupyter-core>=4.6.1->notebook>=4.1.0->-r C:\\Users\\hdev2\\OneDrive - DNA\\Documents\\introtodeeplearning\\requirements.txt (line 6)) (3.5.1)\n",
            "Requirement already satisfied: pywin32>=300 in c:\\users\\hdev2\\onedrive - dna\\documents\\introtodeeplearning\\.venv\\lib\\site-packages (from jupyter-core>=4.6.1->notebook>=4.1.0->-r C:\\Users\\hdev2\\OneDrive - DNA\\Documents\\introtodeeplearning\\requirements.txt (line 6)) (306)\n",
            "Requirement already satisfied: anyio>=3.1.0 in c:\\users\\hdev2\\onedrive - dna\\documents\\introtodeeplearning\\.venv\\lib\\site-packages (from jupyter-server->nbdime->-r C:\\Users\\hdev2\\OneDrive - DNA\\Documents\\introtodeeplearning\\requirements.txt (line 26)) (3.7.0)\n",
            "Requirement already satisfied: jupyter-events>=0.6.0 in c:\\users\\hdev2\\onedrive - dna\\documents\\introtodeeplearning\\.venv\\lib\\site-packages (from jupyter-server->nbdime->-r C:\\Users\\hdev2\\OneDrive - DNA\\Documents\\introtodeeplearning\\requirements.txt (line 26)) (0.6.3)\n",
            "Requirement already satisfied: jupyter-server-terminals in c:\\users\\hdev2\\onedrive - dna\\documents\\introtodeeplearning\\.venv\\lib\\site-packages (from jupyter-server->nbdime->-r C:\\Users\\hdev2\\OneDrive - DNA\\Documents\\introtodeeplearning\\requirements.txt (line 26)) (0.4.4)\n",
            "Requirement already satisfied: overrides in c:\\users\\hdev2\\onedrive - dna\\documents\\introtodeeplearning\\.venv\\lib\\site-packages (from jupyter-server->nbdime->-r C:\\Users\\hdev2\\OneDrive - DNA\\Documents\\introtodeeplearning\\requirements.txt (line 26)) (7.3.1)\n",
            "Requirement already satisfied: pywinpty in c:\\users\\hdev2\\onedrive - dna\\documents\\introtodeeplearning\\.venv\\lib\\site-packages (from jupyter-server->nbdime->-r C:\\Users\\hdev2\\OneDrive - DNA\\Documents\\introtodeeplearning\\requirements.txt (line 26)) (2.0.10)\n",
            "Requirement already satisfied: websocket-client in c:\\users\\hdev2\\onedrive - dna\\documents\\introtodeeplearning\\.venv\\lib\\site-packages (from jupyter-server->nbdime->-r C:\\Users\\hdev2\\OneDrive - DNA\\Documents\\introtodeeplearning\\requirements.txt (line 26)) (1.5.2)\n",
            "Requirement already satisfied: notebook-shim>=0.2.3 in c:\\users\\hdev2\\onedrive - dna\\documents\\introtodeeplearning\\.venv\\lib\\site-packages (from nbclassic>=0.4.7->notebook>=4.1.0->-r C:\\Users\\hdev2\\OneDrive - DNA\\Documents\\introtodeeplearning\\requirements.txt (line 6)) (0.2.3)\n",
            "Requirement already satisfied: beautifulsoup4 in c:\\users\\hdev2\\onedrive - dna\\documents\\introtodeeplearning\\.venv\\lib\\site-packages (from nbconvert->jupyter>=1.0.0->-r C:\\Users\\hdev2\\OneDrive - DNA\\Documents\\introtodeeplearning\\requirements.txt (line 4)) (4.12.2)\n",
            "Requirement already satisfied: bleach in c:\\users\\hdev2\\onedrive - dna\\documents\\introtodeeplearning\\.venv\\lib\\site-packages (from nbconvert->jupyter>=1.0.0->-r C:\\Users\\hdev2\\OneDrive - DNA\\Documents\\introtodeeplearning\\requirements.txt (line 4)) (6.0.0)\n",
            "Requirement already satisfied: defusedxml in c:\\users\\hdev2\\onedrive - dna\\documents\\introtodeeplearning\\.venv\\lib\\site-packages (from nbconvert->jupyter>=1.0.0->-r C:\\Users\\hdev2\\OneDrive - DNA\\Documents\\introtodeeplearning\\requirements.txt (line 4)) (0.7.1)\n",
            "Requirement already satisfied: jupyterlab-pygments in c:\\users\\hdev2\\onedrive - dna\\documents\\introtodeeplearning\\.venv\\lib\\site-packages (from nbconvert->jupyter>=1.0.0->-r C:\\Users\\hdev2\\OneDrive - DNA\\Documents\\introtodeeplearning\\requirements.txt (line 4)) (0.2.2)\n",
            "Requirement already satisfied: mistune<3,>=2.0.3 in c:\\users\\hdev2\\onedrive - dna\\documents\\introtodeeplearning\\.venv\\lib\\site-packages (from nbconvert->jupyter>=1.0.0->-r C:\\Users\\hdev2\\OneDrive - DNA\\Documents\\introtodeeplearning\\requirements.txt (line 4)) (2.0.5)\n",
            "Requirement already satisfied: nbclient>=0.5.0 in c:\\users\\hdev2\\onedrive - dna\\documents\\introtodeeplearning\\.venv\\lib\\site-packages (from nbconvert->jupyter>=1.0.0->-r C:\\Users\\hdev2\\OneDrive - DNA\\Documents\\introtodeeplearning\\requirements.txt (line 4)) (0.8.0)\n",
            "Requirement already satisfied: pandocfilters>=1.4.1 in c:\\users\\hdev2\\onedrive - dna\\documents\\introtodeeplearning\\.venv\\lib\\site-packages (from nbconvert->jupyter>=1.0.0->-r C:\\Users\\hdev2\\OneDrive - DNA\\Documents\\introtodeeplearning\\requirements.txt (line 4)) (1.5.0)\n",
            "Requirement already satisfied: tinycss2 in c:\\users\\hdev2\\onedrive - dna\\documents\\introtodeeplearning\\.venv\\lib\\site-packages (from nbconvert->jupyter>=1.0.0->-r C:\\Users\\hdev2\\OneDrive - DNA\\Documents\\introtodeeplearning\\requirements.txt (line 4)) (1.2.1)\n",
            "Requirement already satisfied: fastjsonschema in c:\\users\\hdev2\\onedrive - dna\\documents\\introtodeeplearning\\.venv\\lib\\site-packages (from nbformat->notebook>=4.1.0->-r C:\\Users\\hdev2\\OneDrive - DNA\\Documents\\introtodeeplearning\\requirements.txt (line 6)) (2.17.1)\n",
            "Requirement already satisfied: jsonschema>=2.6 in c:\\users\\hdev2\\onedrive - dna\\documents\\introtodeeplearning\\.venv\\lib\\site-packages (from nbformat->notebook>=4.1.0->-r C:\\Users\\hdev2\\OneDrive - DNA\\Documents\\introtodeeplearning\\requirements.txt (line 6)) (4.17.3)\n",
            "Requirement already satisfied: wcwidth in c:\\users\\hdev2\\onedrive - dna\\documents\\introtodeeplearning\\.venv\\lib\\site-packages (from prompt-toolkit!=3.0.37,<3.1.0,>=3.0.30->ipython>=4.1.2->-r C:\\Users\\hdev2\\OneDrive - DNA\\Documents\\introtodeeplearning\\requirements.txt (line 3)) (0.2.6)\n",
            "Requirement already satisfied: xmltodict in c:\\users\\hdev2\\onedrive - dna\\documents\\introtodeeplearning\\.venv\\lib\\site-packages (from py3nvml>=0.2->watermark>=1.3.0->-r C:\\Users\\hdev2\\OneDrive - DNA\\Documents\\introtodeeplearning\\requirements.txt (line 12)) (0.13.0)\n",
            "Requirement already satisfied: argon2-cffi-bindings in c:\\users\\hdev2\\onedrive - dna\\documents\\introtodeeplearning\\.venv\\lib\\site-packages (from argon2-cffi->notebook>=4.1.0->-r C:\\Users\\hdev2\\OneDrive - DNA\\Documents\\introtodeeplearning\\requirements.txt (line 6)) (21.2.0)\n",
            "Requirement already satisfied: cloudpickle>=1.2.0 in c:\\users\\hdev2\\onedrive - dna\\documents\\introtodeeplearning\\.venv\\lib\\site-packages (from gym->mitdeeplearning->-r C:\\Users\\hdev2\\OneDrive - DNA\\Documents\\introtodeeplearning\\requirements.txt (line 16)) (2.2.1)\n",
            "Requirement already satisfied: gym-notices>=0.0.4 in c:\\users\\hdev2\\onedrive - dna\\documents\\introtodeeplearning\\.venv\\lib\\site-packages (from gym->mitdeeplearning->-r C:\\Users\\hdev2\\OneDrive - DNA\\Documents\\introtodeeplearning\\requirements.txt (line 16)) (0.0.8)\n",
            "Requirement already satisfied: widgetsnbextension~=4.0.7 in c:\\users\\hdev2\\onedrive - dna\\documents\\introtodeeplearning\\.venv\\lib\\site-packages (from ipywidgets->jupyter>=1.0.0->-r C:\\Users\\hdev2\\OneDrive - DNA\\Documents\\introtodeeplearning\\requirements.txt (line 4)) (4.0.7)\n",
            "Requirement already satisfied: jupyterlab-widgets~=3.0.7 in c:\\users\\hdev2\\onedrive - dna\\documents\\introtodeeplearning\\.venv\\lib\\site-packages (from ipywidgets->jupyter>=1.0.0->-r C:\\Users\\hdev2\\OneDrive - DNA\\Documents\\introtodeeplearning\\requirements.txt (line 4)) (3.0.7)\n",
            "Requirement already satisfied: qtpy>=2.0.1 in c:\\users\\hdev2\\onedrive - dna\\documents\\introtodeeplearning\\.venv\\lib\\site-packages (from qtconsole->jupyter>=1.0.0->-r C:\\Users\\hdev2\\OneDrive - DNA\\Documents\\introtodeeplearning\\requirements.txt (line 4)) (2.3.1)\n",
            "Requirement already satisfied: charset-normalizer<4,>=2 in c:\\users\\hdev2\\onedrive - dna\\documents\\introtodeeplearning\\.venv\\lib\\site-packages (from requests->nbdime->-r C:\\Users\\hdev2\\OneDrive - DNA\\Documents\\introtodeeplearning\\requirements.txt (line 26)) (3.1.0)\n",
            "Requirement already satisfied: idna<4,>=2.5 in c:\\users\\hdev2\\onedrive - dna\\documents\\introtodeeplearning\\.venv\\lib\\site-packages (from requests->nbdime->-r C:\\Users\\hdev2\\OneDrive - DNA\\Documents\\introtodeeplearning\\requirements.txt (line 26)) (3.4)\n",
            "Requirement already satisfied: urllib3<3,>=1.21.1 in c:\\users\\hdev2\\onedrive - dna\\documents\\introtodeeplearning\\.venv\\lib\\site-packages (from requests->nbdime->-r C:\\Users\\hdev2\\OneDrive - DNA\\Documents\\introtodeeplearning\\requirements.txt (line 26)) (1.26.16)\n",
            "Requirement already satisfied: certifi>=2017.4.17 in c:\\users\\hdev2\\onedrive - dna\\documents\\introtodeeplearning\\.venv\\lib\\site-packages (from requests->nbdime->-r C:\\Users\\hdev2\\OneDrive - DNA\\Documents\\introtodeeplearning\\requirements.txt (line 26)) (2023.5.7)\n",
            "Requirement already satisfied: executing>=1.2.0 in c:\\users\\hdev2\\onedrive - dna\\documents\\introtodeeplearning\\.venv\\lib\\site-packages (from stack-data->ipython>=4.1.2->-r C:\\Users\\hdev2\\OneDrive - DNA\\Documents\\introtodeeplearning\\requirements.txt (line 3)) (1.2.0)\n",
            "Requirement already satisfied: asttokens>=2.1.0 in c:\\users\\hdev2\\onedrive - dna\\documents\\introtodeeplearning\\.venv\\lib\\site-packages (from stack-data->ipython>=4.1.2->-r C:\\Users\\hdev2\\OneDrive - DNA\\Documents\\introtodeeplearning\\requirements.txt (line 3)) (2.2.1)\n",
            "Requirement already satisfied: pure-eval in c:\\users\\hdev2\\onedrive - dna\\documents\\introtodeeplearning\\.venv\\lib\\site-packages (from stack-data->ipython>=4.1.2->-r C:\\Users\\hdev2\\OneDrive - DNA\\Documents\\introtodeeplearning\\requirements.txt (line 3)) (0.2.2)\n",
            "Requirement already satisfied: sniffio>=1.1 in c:\\users\\hdev2\\onedrive - dna\\documents\\introtodeeplearning\\.venv\\lib\\site-packages (from anyio>=3.1.0->jupyter-server->nbdime->-r C:\\Users\\hdev2\\OneDrive - DNA\\Documents\\introtodeeplearning\\requirements.txt (line 26)) (1.3.0)\n",
            "Requirement already satisfied: wheel<1.0,>=0.23.0 in c:\\users\\hdev2\\onedrive - dna\\documents\\introtodeeplearning\\.venv\\lib\\site-packages (from astunparse>=1.6.0->tensorflow-intel==2.12.0->tensorflow->-r C:\\Users\\hdev2\\OneDrive - DNA\\Documents\\introtodeeplearning\\requirements.txt (line 14)) (0.40.0)\n",
            "Requirement already satisfied: smmap<6,>=3.0.1 in c:\\users\\hdev2\\onedrive - dna\\documents\\introtodeeplearning\\.venv\\lib\\site-packages (from gitdb<5,>=4.0.1->GitPython!=2.1.4,!=2.1.5,!=2.1.6->nbdime->-r C:\\Users\\hdev2\\OneDrive - DNA\\Documents\\introtodeeplearning\\requirements.txt (line 26)) (5.0.0)\n",
            "Requirement already satisfied: ml-dtypes>=0.1.0 in c:\\users\\hdev2\\onedrive - dna\\documents\\introtodeeplearning\\.venv\\lib\\site-packages (from jax>=0.3.15->tensorflow-intel==2.12.0->tensorflow->-r C:\\Users\\hdev2\\OneDrive - DNA\\Documents\\introtodeeplearning\\requirements.txt (line 14)) (0.1.0)\n",
            "Requirement already satisfied: attrs>=17.4.0 in c:\\users\\hdev2\\onedrive - dna\\documents\\introtodeeplearning\\.venv\\lib\\site-packages (from jsonschema>=2.6->nbformat->notebook>=4.1.0->-r C:\\Users\\hdev2\\OneDrive - DNA\\Documents\\introtodeeplearning\\requirements.txt (line 6)) (23.1.0)\n",
            "Requirement already satisfied: pyrsistent!=0.17.0,!=0.17.1,!=0.17.2,>=0.14.0 in c:\\users\\hdev2\\onedrive - dna\\documents\\introtodeeplearning\\.venv\\lib\\site-packages (from jsonschema>=2.6->nbformat->notebook>=4.1.0->-r C:\\Users\\hdev2\\OneDrive - DNA\\Documents\\introtodeeplearning\\requirements.txt (line 6)) (0.19.3)\n",
            "Requirement already satisfied: python-json-logger>=2.0.4 in c:\\users\\hdev2\\onedrive - dna\\documents\\introtodeeplearning\\.venv\\lib\\site-packages (from jupyter-events>=0.6.0->jupyter-server->nbdime->-r C:\\Users\\hdev2\\OneDrive - DNA\\Documents\\introtodeeplearning\\requirements.txt (line 26)) (2.0.7)\n",
            "Requirement already satisfied: pyyaml>=5.3 in c:\\users\\hdev2\\onedrive - dna\\documents\\introtodeeplearning\\.venv\\lib\\site-packages (from jupyter-events>=0.6.0->jupyter-server->nbdime->-r C:\\Users\\hdev2\\OneDrive - DNA\\Documents\\introtodeeplearning\\requirements.txt (line 26)) (6.0)\n",
            "Requirement already satisfied: rfc3339-validator in c:\\users\\hdev2\\onedrive - dna\\documents\\introtodeeplearning\\.venv\\lib\\site-packages (from jupyter-events>=0.6.0->jupyter-server->nbdime->-r C:\\Users\\hdev2\\OneDrive - DNA\\Documents\\introtodeeplearning\\requirements.txt (line 26)) (0.1.4)\n",
            "Requirement already satisfied: rfc3986-validator>=0.1.1 in c:\\users\\hdev2\\onedrive - dna\\documents\\introtodeeplearning\\.venv\\lib\\site-packages (from jupyter-events>=0.6.0->jupyter-server->nbdime->-r C:\\Users\\hdev2\\OneDrive - DNA\\Documents\\introtodeeplearning\\requirements.txt (line 26)) (0.1.1)\n",
            "Requirement already satisfied: google-auth<3,>=1.6.3 in c:\\users\\hdev2\\onedrive - dna\\documents\\introtodeeplearning\\.venv\\lib\\site-packages (from tensorboard<2.13,>=2.12->tensorflow-intel==2.12.0->tensorflow->-r C:\\Users\\hdev2\\OneDrive - DNA\\Documents\\introtodeeplearning\\requirements.txt (line 14)) (2.19.1)\n",
            "Requirement already satisfied: google-auth-oauthlib<1.1,>=0.5 in c:\\users\\hdev2\\onedrive - dna\\documents\\introtodeeplearning\\.venv\\lib\\site-packages (from tensorboard<2.13,>=2.12->tensorflow-intel==2.12.0->tensorflow->-r C:\\Users\\hdev2\\OneDrive - DNA\\Documents\\introtodeeplearning\\requirements.txt (line 14)) (1.0.0)\n",
            "Requirement already satisfied: markdown>=2.6.8 in c:\\users\\hdev2\\onedrive - dna\\documents\\introtodeeplearning\\.venv\\lib\\site-packages (from tensorboard<2.13,>=2.12->tensorflow-intel==2.12.0->tensorflow->-r C:\\Users\\hdev2\\OneDrive - DNA\\Documents\\introtodeeplearning\\requirements.txt (line 14)) (3.4.3)\n",
            "Requirement already satisfied: tensorboard-data-server<0.8.0,>=0.7.0 in c:\\users\\hdev2\\onedrive - dna\\documents\\introtodeeplearning\\.venv\\lib\\site-packages (from tensorboard<2.13,>=2.12->tensorflow-intel==2.12.0->tensorflow->-r C:\\Users\\hdev2\\OneDrive - DNA\\Documents\\introtodeeplearning\\requirements.txt (line 14)) (0.7.0)\n",
            "Requirement already satisfied: werkzeug>=1.0.1 in c:\\users\\hdev2\\onedrive - dna\\documents\\introtodeeplearning\\.venv\\lib\\site-packages (from tensorboard<2.13,>=2.12->tensorflow-intel==2.12.0->tensorflow->-r C:\\Users\\hdev2\\OneDrive - DNA\\Documents\\introtodeeplearning\\requirements.txt (line 14)) (2.3.4)\n",
            "Requirement already satisfied: cffi>=1.0.1 in c:\\users\\hdev2\\onedrive - dna\\documents\\introtodeeplearning\\.venv\\lib\\site-packages (from argon2-cffi-bindings->argon2-cffi->notebook>=4.1.0->-r C:\\Users\\hdev2\\OneDrive - DNA\\Documents\\introtodeeplearning\\requirements.txt (line 6)) (1.15.1)\n",
            "Requirement already satisfied: soupsieve>1.2 in c:\\users\\hdev2\\onedrive - dna\\documents\\introtodeeplearning\\.venv\\lib\\site-packages (from beautifulsoup4->nbconvert->jupyter>=1.0.0->-r C:\\Users\\hdev2\\OneDrive - DNA\\Documents\\introtodeeplearning\\requirements.txt (line 4)) (2.4.1)\n",
            "Requirement already satisfied: webencodings in c:\\users\\hdev2\\onedrive - dna\\documents\\introtodeeplearning\\.venv\\lib\\site-packages (from bleach->nbconvert->jupyter>=1.0.0->-r C:\\Users\\hdev2\\OneDrive - DNA\\Documents\\introtodeeplearning\\requirements.txt (line 4)) (0.5.1)\n",
            "Requirement already satisfied: pycparser in c:\\users\\hdev2\\onedrive - dna\\documents\\introtodeeplearning\\.venv\\lib\\site-packages (from cffi>=1.0.1->argon2-cffi-bindings->argon2-cffi->notebook>=4.1.0->-r C:\\Users\\hdev2\\OneDrive - DNA\\Documents\\introtodeeplearning\\requirements.txt (line 6)) (2.21)\n",
            "Requirement already satisfied: cachetools<6.0,>=2.0.0 in c:\\users\\hdev2\\onedrive - dna\\documents\\introtodeeplearning\\.venv\\lib\\site-packages (from google-auth<3,>=1.6.3->tensorboard<2.13,>=2.12->tensorflow-intel==2.12.0->tensorflow->-r C:\\Users\\hdev2\\OneDrive - DNA\\Documents\\introtodeeplearning\\requirements.txt (line 14)) (5.3.1)\n",
            "Requirement already satisfied: pyasn1-modules>=0.2.1 in c:\\users\\hdev2\\onedrive - dna\\documents\\introtodeeplearning\\.venv\\lib\\site-packages (from google-auth<3,>=1.6.3->tensorboard<2.13,>=2.12->tensorflow-intel==2.12.0->tensorflow->-r C:\\Users\\hdev2\\OneDrive - DNA\\Documents\\introtodeeplearning\\requirements.txt (line 14)) (0.3.0)\n",
            "Requirement already satisfied: rsa<5,>=3.1.4 in c:\\users\\hdev2\\onedrive - dna\\documents\\introtodeeplearning\\.venv\\lib\\site-packages (from google-auth<3,>=1.6.3->tensorboard<2.13,>=2.12->tensorflow-intel==2.12.0->tensorflow->-r C:\\Users\\hdev2\\OneDrive - DNA\\Documents\\introtodeeplearning\\requirements.txt (line 14)) (4.9)\n",
            "Requirement already satisfied: requests-oauthlib>=0.7.0 in c:\\users\\hdev2\\onedrive - dna\\documents\\introtodeeplearning\\.venv\\lib\\site-packages (from google-auth-oauthlib<1.1,>=0.5->tensorboard<2.13,>=2.12->tensorflow-intel==2.12.0->tensorflow->-r C:\\Users\\hdev2\\OneDrive - DNA\\Documents\\introtodeeplearning\\requirements.txt (line 14)) (1.3.1)\n",
            "Requirement already satisfied: fqdn in c:\\users\\hdev2\\onedrive - dna\\documents\\introtodeeplearning\\.venv\\lib\\site-packages (from jsonschema>=2.6->nbformat->notebook>=4.1.0->-r C:\\Users\\hdev2\\OneDrive - DNA\\Documents\\introtodeeplearning\\requirements.txt (line 6)) (1.5.1)\n",
            "Requirement already satisfied: isoduration in c:\\users\\hdev2\\onedrive - dna\\documents\\introtodeeplearning\\.venv\\lib\\site-packages (from jsonschema>=2.6->nbformat->notebook>=4.1.0->-r C:\\Users\\hdev2\\OneDrive - DNA\\Documents\\introtodeeplearning\\requirements.txt (line 6)) (20.11.0)\n",
            "Requirement already satisfied: jsonpointer>1.13 in c:\\users\\hdev2\\onedrive - dna\\documents\\introtodeeplearning\\.venv\\lib\\site-packages (from jsonschema>=2.6->nbformat->notebook>=4.1.0->-r C:\\Users\\hdev2\\OneDrive - DNA\\Documents\\introtodeeplearning\\requirements.txt (line 6)) (2.3)\n",
            "Requirement already satisfied: uri-template in c:\\users\\hdev2\\onedrive - dna\\documents\\introtodeeplearning\\.venv\\lib\\site-packages (from jsonschema>=2.6->nbformat->notebook>=4.1.0->-r C:\\Users\\hdev2\\OneDrive - DNA\\Documents\\introtodeeplearning\\requirements.txt (line 6)) (1.2.0)\n",
            "Requirement already satisfied: webcolors>=1.11 in c:\\users\\hdev2\\onedrive - dna\\documents\\introtodeeplearning\\.venv\\lib\\site-packages (from jsonschema>=2.6->nbformat->notebook>=4.1.0->-r C:\\Users\\hdev2\\OneDrive - DNA\\Documents\\introtodeeplearning\\requirements.txt (line 6)) (1.13)\n",
            "Requirement already satisfied: pyasn1<0.6.0,>=0.4.6 in c:\\users\\hdev2\\onedrive - dna\\documents\\introtodeeplearning\\.venv\\lib\\site-packages (from pyasn1-modules>=0.2.1->google-auth<3,>=1.6.3->tensorboard<2.13,>=2.12->tensorflow-intel==2.12.0->tensorflow->-r C:\\Users\\hdev2\\OneDrive - DNA\\Documents\\introtodeeplearning\\requirements.txt (line 14)) (0.5.0)\n",
            "Requirement already satisfied: oauthlib>=3.0.0 in c:\\users\\hdev2\\onedrive - dna\\documents\\introtodeeplearning\\.venv\\lib\\site-packages (from requests-oauthlib>=0.7.0->google-auth-oauthlib<1.1,>=0.5->tensorboard<2.13,>=2.12->tensorflow-intel==2.12.0->tensorflow->-r C:\\Users\\hdev2\\OneDrive - DNA\\Documents\\introtodeeplearning\\requirements.txt (line 14)) (3.2.2)\n",
            "Requirement already satisfied: arrow>=0.15.0 in c:\\users\\hdev2\\onedrive - dna\\documents\\introtodeeplearning\\.venv\\lib\\site-packages (from isoduration->jsonschema>=2.6->nbformat->notebook>=4.1.0->-r C:\\Users\\hdev2\\OneDrive - DNA\\Documents\\introtodeeplearning\\requirements.txt (line 6)) (1.2.3)\n"
          ]
        }
      ],
      "source": [
        "!pip install -r \"C:\\Users\\hdev2\\OneDrive - DNA\\Documents\\introtodeeplearning\\requirements.txt\""
      ]
    },
    {
      "cell_type": "code",
      "execution_count": 6,
      "metadata": {
        "id": "riVZCVK65QTH"
      },
      "outputs": [
        {
          "name": "stderr",
          "output_type": "stream",
          "text": [
            "The system cannot find the path specified.\n"
          ]
        }
      ],
      "source": [
        "# Import Tensorflow 2.0\n",
        "# %tensorflow_version 2.x\n",
        "import tensorflow as tf \n",
        "\n",
        "# Download and import the MIT Introduction to Deep Learning package\n",
        "# !pip install mitdeeplearning\n",
        "import mitdeeplearning as mdl\n",
        "\n",
        "# Import all remaining packages\n",
        "import numpy as np\n",
        "import os\n",
        "import time\n",
        "import functools\n",
        "from IPython import display as ipythondisplay\n",
        "from tqdm import tqdm\n",
        "!apt-get install abcmidi timidity > /dev/null 2>&1\n",
        "\n",
        "# Check that we are using a GPU, if not switch runtimes\n",
        "#   using Runtime > Change Runtime Type > GPU\n",
        "# assert len(tf.config.list_physical_devices('GPU')) > 0"
      ]
    },
    {
      "attachments": {},
      "cell_type": "markdown",
      "metadata": {
        "id": "_ajvp0No4qDm"
      },
      "source": [
        "## 2.2 Dataset\n",
        "\n",
        "![Let's Dance!](http://33.media.tumblr.com/3d223954ad0a77f4e98a7b87136aa395/tumblr_nlct5lFVbF1qhu7oio1_500.gif)\n",
        "\n",
        "We've gathered a dataset of thousands of Irish folk songs, represented in the ABC notation. Let's download the dataset and inspect it: \n"
      ]
    },
    {
      "cell_type": "code",
      "execution_count": 7,
      "metadata": {
        "id": "P7dFnP5q3Jve"
      },
      "outputs": [
        {
          "name": "stdout",
          "output_type": "stream",
          "text": [
            "Found 817 songs in text\n",
            "\n",
            "Example song: \n",
            "X:1\n",
            "T:Alexander's\n",
            "Z: id:dc-hornpipe-1\n",
            "M:C|\n",
            "L:1/8\n",
            "K:D Major\n",
            "(3ABc|dAFA DFAd|fdcd FAdf|gfge fefd|(3efe (3dcB A2 (3ABc|!\n",
            "dAFA DFAd|fdcd FAdf|gfge fefd|(3efe dc d2:|!\n",
            "AG|FAdA FAdA|GBdB GBdB|Acec Acec|dfaf gecA|!\n",
            "FAdA FAdA|GBdB GBdB|Aceg fefd|(3efe dc d2:|!\n"
          ]
        }
      ],
      "source": [
        "# Download the dataset\n",
        "songs = mdl.lab1.load_training_data()\n",
        "\n",
        "# Print one of the songs to inspect it in greater detail!\n",
        "example_song = songs[0]\n",
        "print(\"\\nExample song: \")\n",
        "print(example_song)"
      ]
    },
    {
      "attachments": {},
      "cell_type": "markdown",
      "metadata": {
        "id": "hKF3EHJlCAj2"
      },
      "source": [
        "We can easily convert a song in ABC notation to an audio waveform and play it back. Be patient for this conversion to run, it can take some time."
      ]
    },
    {
      "cell_type": "code",
      "execution_count": 8,
      "metadata": {
        "id": "11toYzhEEKDz"
      },
      "outputs": [],
      "source": [
        "# Convert the ABC notation to audio file and listen to it\n",
        "mdl.lab1.play_song(example_song)"
      ]
    },
    {
      "attachments": {},
      "cell_type": "markdown",
      "metadata": {
        "id": "7vH24yyquwKQ"
      },
      "source": [
        "One important thing to think about is that this notation of music does not simply contain information on the notes being played, but additionally there is meta information such as the song title, key, and tempo. How does the number of different characters that are present in the text file impact the complexity of the learning problem? This will become important soon, when we generate a numerical representation for the text data."
      ]
    },
    {
      "cell_type": "code",
      "execution_count": 9,
      "metadata": {
        "id": "IlCgQBRVymwR"
      },
      "outputs": [
        {
          "name": "stdout",
          "output_type": "stream",
          "text": [
            "There are 83 unique characters in the dataset\n"
          ]
        }
      ],
      "source": [
        "# Join our list of song strings into a single string containing all songs\n",
        "songs_joined = \"\\n\\n\".join(songs) \n",
        "\n",
        "# Find all unique characters in the joined string\n",
        "vocab = sorted(set(songs_joined))\n",
        "print(\"There are\", len(vocab), \"unique characters in the dataset\")"
      ]
    },
    {
      "attachments": {},
      "cell_type": "markdown",
      "metadata": {
        "id": "rNnrKn_lL-IJ"
      },
      "source": [
        "## 2.3 Process the dataset for the learning task\n",
        "\n",
        "Let's take a step back and consider our prediction task. We're trying to train a RNN model to learn patterns in ABC music, and then use this model to generate (i.e., predict) a new piece of music based on this learned information. \n",
        "\n",
        "Breaking this down, what we're really asking the model is: given a character, or a sequence of characters, what is the most probable next character? We'll train the model to perform this task. \n",
        "\n",
        "To achieve this, we will input a sequence of characters to the model, and train the model to predict the output, that is, the following character at each time step. RNNs maintain an internal state that depends on previously seen elements, so information about all characters seen up until a given moment will be taken into account in generating the prediction."
      ]
    },
    {
      "attachments": {},
      "cell_type": "markdown",
      "metadata": {
        "id": "LFjSVAlWzf-N"
      },
      "source": [
        "### Vectorize the text\n",
        "\n",
        "Before we begin training our RNN model, we'll need to create a numerical representation of our text-based dataset. To do this, we'll generate two lookup tables: one that maps characters to numbers, and a second that maps numbers back to characters. Recall that we just identified the unique characters present in the text."
      ]
    },
    {
      "cell_type": "code",
      "execution_count": 10,
      "metadata": {
        "id": "IalZLbvOzf-F"
      },
      "outputs": [],
      "source": [
        "### Define numerical representation of text ###\n",
        "\n",
        "# Create a mapping from character to unique index.\n",
        "# For example, to get the index of the character \"d\", \n",
        "#   we can evaluate `char2idx[\"d\"]`.  \n",
        "char2idx = {u:i for i, u in enumerate(vocab)}\n",
        "\n",
        "# Create a mapping from indices to characters. This is\n",
        "#   the inverse of char2idx and allows us to convert back\n",
        "#   from unique index to the character in our vocabulary.\n",
        "idx2char = np.array(vocab)"
      ]
    },
    {
      "attachments": {},
      "cell_type": "markdown",
      "metadata": {
        "id": "tZfqhkYCymwX"
      },
      "source": [
        "This gives us an integer representation for each character. Observe that the unique characters (i.e., our vocabulary) in the text are mapped as indices from 0 to `len(unique)`. Let's take a peek at this numerical representation of our dataset:"
      ]
    },
    {
      "cell_type": "code",
      "execution_count": 11,
      "metadata": {
        "id": "FYyNlCNXymwY"
      },
      "outputs": [
        {
          "name": "stdout",
          "output_type": "stream",
          "text": [
            "{\n",
            "  '\\n':   0,\n",
            "  ' ' :   1,\n",
            "  '!' :   2,\n",
            "  '\"' :   3,\n",
            "  '#' :   4,\n",
            "  \"'\" :   5,\n",
            "  '(' :   6,\n",
            "  ')' :   7,\n",
            "  ',' :   8,\n",
            "  '-' :   9,\n",
            "  '.' :  10,\n",
            "  '/' :  11,\n",
            "  '0' :  12,\n",
            "  '1' :  13,\n",
            "  '2' :  14,\n",
            "  '3' :  15,\n",
            "  '4' :  16,\n",
            "  '5' :  17,\n",
            "  '6' :  18,\n",
            "  '7' :  19,\n",
            "  ...\n",
            "}\n"
          ]
        }
      ],
      "source": [
        "print('{')\n",
        "for char,_ in zip(char2idx, range(20)):\n",
        "    print('  {:4s}: {:3d},'.format(repr(char), char2idx[char]))\n",
        "print('  ...\\n}')"
      ]
    },
    {
      "cell_type": "code",
      "execution_count": 12,
      "metadata": {
        "id": "g-LnKyu4dczc"
      },
      "outputs": [],
      "source": [
        "### Vectorize the songs string ###\n",
        "\n",
        "'''TODO: Write a function to convert the all songs string to a vectorized\n",
        "    (i.e., numeric) representation. Use the appropriate mapping\n",
        "    above to convert from vocab characters to the corresponding indices.\n",
        "\n",
        "  NOTE: the output of the `vectorize_string` function \n",
        "  should be a np.array with `N` elements, where `N` is\n",
        "  the number of characters in the input string\n",
        "'''\n",
        "\n",
        "def vectorize_string(string):\n",
        "  vectorized_output = np.array([char2idx[char] for char in string])\n",
        "  return vectorized_output\n",
        "\n",
        "vectorized_songs = vectorize_string(songs_joined)"
      ]
    },
    {
      "attachments": {},
      "cell_type": "markdown",
      "metadata": {
        "id": "IqxpSuZ1w-ub"
      },
      "source": [
        "We can also look at how the first part of the text is mapped to an integer representation:"
      ]
    },
    {
      "cell_type": "code",
      "execution_count": 13,
      "metadata": {
        "id": "l1VKcQHcymwb"
      },
      "outputs": [
        {
          "name": "stdout",
          "output_type": "stream",
          "text": [
            "'X:1\\nT:Alex' ---- characters mapped to int ----> [49 22 13  0 45 22 26 67 60 79]\n"
          ]
        }
      ],
      "source": [
        "print ('{} ---- characters mapped to int ----> {}'.format(repr(songs_joined[:10]), vectorized_songs[:10]))\n",
        "# check that vectorized_songs is a numpy array\n",
        "assert isinstance(vectorized_songs, np.ndarray), \"returned result should be a numpy array\""
      ]
    },
    {
      "attachments": {},
      "cell_type": "markdown",
      "metadata": {
        "id": "hgsVvVxnymwf"
      },
      "source": [
        "### Create training examples and targets\n",
        "\n",
        "Our next step is to actually divide the text into example sequences that we'll use during training. Each input sequence that we feed into our RNN will contain `seq_length` characters from the text. We'll also need to define a target sequence for each input sequence, which will be used in training the RNN to predict the next character. For each input, the corresponding target will contain the same length of text, except shifted one character to the right.\n",
        "\n",
        "To do this, we'll break the text into chunks of `seq_length+1`. Suppose `seq_length` is 4 and our text is \"Hello\". Then, our input sequence is \"Hell\" and the target sequence is \"ello\".\n",
        "\n",
        "The batch method will then let us convert this stream of character indices to sequences of the desired size."
      ]
    },
    {
      "cell_type": "code",
      "execution_count": 14,
      "metadata": {
        "id": "LF-N8F7BoDRi"
      },
      "outputs": [
        {
          "name": "stdout",
          "output_type": "stream",
          "text": [
            "[PASS] test_batch_func_types\n",
            "[PASS] test_batch_func_shapes\n",
            "[PASS] test_batch_func_next_step\n",
            "======\n",
            "[PASS] passed all tests!\n"
          ]
        }
      ],
      "source": [
        "### Batch definition to create training examples ###\n",
        "\n",
        "def get_batch(vectorized_songs, seq_length, batch_size):\n",
        "  # the length of the vectorized songs string\n",
        "  n = vectorized_songs.shape[0] - 1\n",
        "  # randomly choose the starting indices for the examples in the training batch\n",
        "  idx = np.random.choice(n-seq_length, batch_size)\n",
        "\n",
        "  '''TODO: construct a list of input sequences for the training batch'''\n",
        "  input_batch = [vectorized_songs[i : i+seq_length] for i in idx]\n",
        "  # input_batch = # TODO\n",
        "  '''TODO: construct a list of output sequences for the training batch'''\n",
        "  output_batch = [vectorized_songs[i+1 : i+seq_length+1] for i in idx]\n",
        "  # output_batch = # TODO\n",
        "\n",
        "  # x_batch, y_batch provide the true inputs and targets for network training\n",
        "  x_batch = np.reshape(input_batch, [batch_size, seq_length])\n",
        "  y_batch = np.reshape(output_batch, [batch_size, seq_length])\n",
        "  return x_batch, y_batch\n",
        "\n",
        "\n",
        "# Perform some simple tests to make sure your batch function is working properly! \n",
        "test_args = (vectorized_songs, 10, 2)\n",
        "if not mdl.lab1.test_batch_func_types(get_batch, test_args) or \\\n",
        "   not mdl.lab1.test_batch_func_shapes(get_batch, test_args) or \\\n",
        "   not mdl.lab1.test_batch_func_next_step(get_batch, test_args): \n",
        "   print(\"======\\n[FAIL] could not pass tests\")\n",
        "else: \n",
        "   print(\"======\\n[PASS] passed all tests!\")"
      ]
    },
    {
      "attachments": {},
      "cell_type": "markdown",
      "metadata": {
        "id": "_33OHL3b84i0"
      },
      "source": [
        "For each of these vectors, each index is processed at a single time step. So, for the input at time step 0, the model receives the index for the first character in the sequence, and tries to predict the index of the next character. At the next timestep, it does the same thing, but the RNN considers the information from the previous step, i.e., its updated state, in addition to the current input.\n",
        "\n",
        "We can make this concrete by taking a look at how this works over the first several characters in our text:"
      ]
    },
    {
      "cell_type": "code",
      "execution_count": 15,
      "metadata": {
        "id": "0eBu9WZG84i0"
      },
      "outputs": [
        {
          "name": "stdout",
          "output_type": "stream",
          "text": [
            "Step   0\n",
            "  input: 0 ('\\n')\n",
            "  expected output: 51 ('Z')\n",
            "Step   1\n",
            "  input: 51 ('Z')\n",
            "  expected output: 22 (':')\n",
            "Step   2\n",
            "  input: 22 (':')\n",
            "  expected output: 1 (' ')\n",
            "Step   3\n",
            "  input: 1 (' ')\n",
            "  expected output: 64 ('i')\n",
            "Step   4\n",
            "  input: 64 ('i')\n",
            "  expected output: 59 ('d')\n"
          ]
        }
      ],
      "source": [
        "x_batch, y_batch = get_batch(vectorized_songs, seq_length=5, batch_size=1)\n",
        "\n",
        "for i, (input_idx, target_idx) in enumerate(zip(np.squeeze(x_batch), np.squeeze(y_batch))):\n",
        "    print(\"Step {:3d}\".format(i))\n",
        "    print(\"  input: {} ({:s})\".format(input_idx, repr(idx2char[input_idx])))\n",
        "    print(\"  expected output: {} ({:s})\".format(target_idx, repr(idx2char[target_idx])))"
      ]
    },
    {
      "attachments": {},
      "cell_type": "markdown",
      "metadata": {
        "id": "r6oUuElIMgVx"
      },
      "source": [
        "## 2.4 The Recurrent Neural Network (RNN) model"
      ]
    },
    {
      "attachments": {},
      "cell_type": "markdown",
      "metadata": {
        "id": "m8gPwEjRzf-Z"
      },
      "source": [
        "Now we're ready to define and train a RNN model on our ABC music dataset, and then use that trained model to generate a new song. We'll train our RNN using batches of song snippets from our dataset, which we generated in the previous section.\n",
        "\n",
        "The model is based off the LSTM architecture, where we use a state vector to maintain information about the temporal relationships between consecutive characters. The final output of the LSTM is then fed into a fully connected [`Dense`](https://www.tensorflow.org/api_docs/python/tf/keras/layers/Dense) layer where we'll output a softmax over each character in the vocabulary, and then sample from this distribution to predict the next character. \n",
        "\n",
        "As we introduced in the first portion of this lab, we'll be using the Keras API, specifically, [`tf.keras.Sequential`](https://www.tensorflow.org/api_docs/python/tf/keras/models/Sequential), to define the model. Three layers are used to define the model:\n",
        "\n",
        "* [`tf.keras.layers.Embedding`](https://www.tensorflow.org/api_docs/python/tf/keras/layers/Embedding): This is the input layer, consisting of a trainable lookup table that maps the numbers of each character to a vector with `embedding_dim` dimensions.\n",
        "* [`tf.keras.layers.LSTM`](https://www.tensorflow.org/api_docs/python/tf/keras/layers/LSTM): Our LSTM network, with size `units=rnn_units`. \n",
        "* [`tf.keras.layers.Dense`](https://www.tensorflow.org/api_docs/python/tf/keras/layers/Dense): The output layer, with `vocab_size` outputs.\n",
        "\n",
        "\n",
        "<img src=\"https://raw.githubusercontent.com/aamini/introtodeeplearning/2019/lab1/img/lstm_unrolled-01-01.png\" alt=\"Drawing\"/>"
      ]
    },
    {
      "attachments": {},
      "cell_type": "markdown",
      "metadata": {
        "id": "rlaOqndqBmJo"
      },
      "source": [
        "### Define the RNN model\n",
        "\n",
        "Now, we will define a function that we will use to actually build the model."
      ]
    },
    {
      "cell_type": "code",
      "execution_count": 16,
      "metadata": {
        "id": "8DsWzojvkbc7"
      },
      "outputs": [],
      "source": [
        "def LSTM(rnn_units): \n",
        "  return tf.keras.layers.LSTM(\n",
        "    rnn_units, \n",
        "    return_sequences=True, \n",
        "    recurrent_initializer='glorot_uniform',\n",
        "    recurrent_activation='sigmoid',\n",
        "    stateful=True,\n",
        "  )"
      ]
    },
    {
      "attachments": {},
      "cell_type": "markdown",
      "metadata": {
        "id": "IbWU4dMJmMvq"
      },
      "source": [
        "The time has come! Fill in the `TODOs` to define the RNN model within the `build_model` function, and then call the function you just defined to instantiate the model!"
      ]
    },
    {
      "cell_type": "code",
      "execution_count": 17,
      "metadata": {
        "id": "MtCrdfzEI2N0"
      },
      "outputs": [],
      "source": [
        "### Defining the RNN Model ###\n",
        "\n",
        "'''TODO: Add LSTM and Dense layers to define the RNN model using the Sequential API.'''\n",
        "def build_model(vocab_size, embedding_dim, rnn_units, batch_size):\n",
        "  model = tf.keras.Sequential([\n",
        "    # Layer 1: Embedding layer to transform indices into dense vectors \n",
        "    #   of a fixed embedding size\n",
        "    tf.keras.layers.Embedding(vocab_size, embedding_dim, batch_input_shape=[batch_size, None]),\n",
        "\n",
        "    # Layer 2: LSTM with `rnn_units` number of units. \n",
        "    # TODO: Call the LSTM function defined above to add this layer.\n",
        "    LSTM(rnn_units),\n",
        "\n",
        "    # Layer 3: Dense (fully-connected) layer that transforms the LSTM output\n",
        "    #   into the vocabulary size. \n",
        "    # TODO: Add the Dense layer.\n",
        "    tf.keras.layers.Dense(vocab_size)\n",
        "  ])\n",
        "\n",
        "  return model\n",
        "\n",
        "# Build a simple model with default hyperparameters. You will get the \n",
        "#   chance to change these later.\n",
        "model = build_model(len(vocab), embedding_dim=256, rnn_units=1024, batch_size=32)"
      ]
    },
    {
      "attachments": {},
      "cell_type": "markdown",
      "metadata": {
        "id": "-ubPo0_9Prjb"
      },
      "source": [
        "### Test out the RNN model\n",
        "\n",
        "It's always a good idea to run a few simple checks on our model to see that it behaves as expected.  \n",
        "\n",
        "First, we can use the `Model.summary` function to print out a summary of our model's internal workings. Here we can check the layers in the model, the shape of the output of each of the layers, the batch size, etc."
      ]
    },
    {
      "cell_type": "code",
      "execution_count": 18,
      "metadata": {
        "id": "RwG1DD6rDrRM"
      },
      "outputs": [
        {
          "name": "stdout",
          "output_type": "stream",
          "text": [
            "Model: \"sequential\"\n",
            "_________________________________________________________________\n",
            " Layer (type)                Output Shape              Param #   \n",
            "=================================================================\n",
            " embedding (Embedding)       (32, None, 256)           21248     \n",
            "                                                                 \n",
            " lstm (LSTM)                 (32, None, 1024)          5246976   \n",
            "                                                                 \n",
            " dense (Dense)               (32, None, 83)            85075     \n",
            "                                                                 \n",
            "=================================================================\n",
            "Total params: 5,353,299\n",
            "Trainable params: 5,353,299\n",
            "Non-trainable params: 0\n",
            "_________________________________________________________________\n"
          ]
        }
      ],
      "source": [
        "model.summary()"
      ]
    },
    {
      "attachments": {},
      "cell_type": "markdown",
      "metadata": {
        "id": "8xeDn5nZD0LX"
      },
      "source": [
        "We can also quickly check the dimensionality of our output, using a sequence length of 100. Note that the model can be run on inputs of any length."
      ]
    },
    {
      "cell_type": "code",
      "execution_count": 19,
      "metadata": {
        "id": "C-_70kKAPrPU"
      },
      "outputs": [
        {
          "name": "stdout",
          "output_type": "stream",
          "text": [
            "Input shape:       (32, 100)  # (batch_size, sequence_length)\n",
            "Prediction shape:  (32, 100, 83) # (batch_size, sequence_length, vocab_size)\n"
          ]
        }
      ],
      "source": [
        "x, y = get_batch(vectorized_songs, seq_length=100, batch_size=32)\n",
        "pred = model(x)\n",
        "print(\"Input shape:      \", x.shape, \" # (batch_size, sequence_length)\")\n",
        "print(\"Prediction shape: \", pred.shape, \"# (batch_size, sequence_length, vocab_size)\")"
      ]
    },
    {
      "attachments": {},
      "cell_type": "markdown",
      "metadata": {
        "id": "mT1HvFVUGpoE"
      },
      "source": [
        "### Predictions from the untrained model\n",
        "\n",
        "Let's take a look at what our untrained model is predicting.\n",
        "\n",
        "To get actual predictions from the model, we sample from the output distribution, which is defined by a `softmax` over our character vocabulary. This will give us actual character indices. This means we are using a [categorical distribution](https://en.wikipedia.org/wiki/Categorical_distribution) to sample over the example prediction. This gives a prediction of the next character (specifically its index) at each timestep.\n",
        "\n",
        "Note here that we sample from this probability distribution, as opposed to simply taking the `argmax`, which can cause the model to get stuck in a loop.\n",
        "\n",
        "Let's try this sampling out for the first example in the batch."
      ]
    },
    {
      "cell_type": "code",
      "execution_count": 20,
      "metadata": {
        "id": "4V4MfFg0RQJg"
      },
      "outputs": [
        {
          "data": {
            "text/plain": [
              "array([65, 26, 60, 15, 52, 69, 59, 17, 15, 57, 44, 47, 58, 70,  4, 16, 68,\n",
              "       76, 38, 15, 16, 33, 11, 17, 19, 61, 55, 47, 63, 37, 41,  1, 15, 19,\n",
              "       81, 32,  5, 31,  2, 70, 64, 30,  0, 37, 45,  2, 74, 41, 56, 22,  1,\n",
              "        1, 63, 12, 40, 80, 61, 23, 59, 18, 13,  9, 67,  4, 59, 45, 77, 68,\n",
              "       59,  3, 17, 25, 31, 27, 33, 25, 28, 50, 10, 41, 72, 21, 16, 42, 75,\n",
              "        6, 13,  7,  3, 37, 22, 77, 80, 35, 81, 55,  8, 61, 73, 27],\n",
              "      dtype=int64)"
            ]
          },
          "execution_count": 20,
          "metadata": {},
          "output_type": "execute_result"
        }
      ],
      "source": [
        "sampled_indices = tf.random.categorical(pred[0], num_samples=1)\n",
        "sampled_indices = tf.squeeze(sampled_indices,axis=-1).numpy()\n",
        "sampled_indices"
      ]
    },
    {
      "attachments": {},
      "cell_type": "markdown",
      "metadata": {
        "id": "LfLtsP3mUhCG"
      },
      "source": [
        "We can now decode these to see the text predicted by the untrained model:"
      ]
    },
    {
      "cell_type": "code",
      "execution_count": 21,
      "metadata": {
        "id": "xWcFwPwLSo05"
      },
      "outputs": [
        {
          "name": "stdout",
          "output_type": "stream",
          "text": [
            "Input: \n",
            " '|ABcd e2ce|fdBc defg|]!\\naAA2 cee2|abag fefg|aAA2 cee2|fdBc defg|!\\naAA2 cee2|abag fefg|a2ga faec|dcBc'\n",
            "\n",
            "Next Char Predictions: \n",
            " 'jAe3[nd53bSVco#4muM34H/57f_VhLP 37zG\\'F!oiE\\nLT!sPa:  h0Oyf<d61-l#dTvmd\"5>FBH>CY.Pq94Qt(1)\"L:vyJz_,frB'\n"
          ]
        }
      ],
      "source": [
        "print(\"Input: \\n\", repr(\"\".join(idx2char[x[0]])))\n",
        "print()\n",
        "print(\"Next Char Predictions: \\n\", repr(\"\".join(idx2char[sampled_indices])))"
      ]
    },
    {
      "attachments": {},
      "cell_type": "markdown",
      "metadata": {
        "id": "HEHHcRasIDm9"
      },
      "source": [
        "As you can see, the text predicted by the untrained model is pretty nonsensical! How can we do better? We can train the network!"
      ]
    },
    {
      "attachments": {},
      "cell_type": "markdown",
      "metadata": {
        "id": "LJL0Q0YPY6Ee"
      },
      "source": [
        "## 2.5 Training the model: loss and training operations\n",
        "\n",
        "Now it's time to train the model!\n",
        "\n",
        "At this point, we can think of our next character prediction problem as a standard classification problem. Given the previous state of the RNN, as well as the input at a given time step, we want to predict the class of the next character -- that is, to actually predict the next character. \n",
        "\n",
        "To train our model on this classification task, we can use a form of the `crossentropy` loss (negative log likelihood loss). Specifically, we will use the [`sparse_categorical_crossentropy`](https://www.tensorflow.org/api_docs/python/tf/keras/losses/sparse_categorical_crossentropy) loss, as it utilizes integer targets for categorical classification tasks. We will want to compute the loss using the true targets -- the `labels` -- and the predicted targets -- the `logits`.\n",
        "\n",
        "Let's first compute the loss using our example predictions from the untrained model: "
      ]
    },
    {
      "cell_type": "code",
      "execution_count": 22,
      "metadata": {
        "id": "4HrXTACTdzY-"
      },
      "outputs": [
        {
          "name": "stdout",
          "output_type": "stream",
          "text": [
            "Prediction shape:  (32, 100, 83)  # (batch_size, sequence_length, vocab_size)\n",
            "scalar_loss:       4.419111\n"
          ]
        }
      ],
      "source": [
        "### Defining the loss function ###\n",
        "\n",
        "'''TODO: define the loss function to compute and return the loss between\n",
        "    the true labels and predictions (logits). Set the argument from_logits=True.'''\n",
        "def compute_loss(labels, logits):\n",
        "  loss = tf.keras.losses.sparse_categorical_crossentropy(labels, logits, from_logits=True)\n",
        "  # loss = tf.keras.losses.sparse_categorical_crossentropy('''TODO''', '''TODO''', from_logits=True) # TODO\n",
        "  return loss\n",
        "\n",
        "'''TODO: compute the loss using the true next characters from the example batch \n",
        "    and the predictions from the untrained model several cells above'''\n",
        "example_batch_loss = compute_loss(y, pred)\n",
        "# example_batch_loss = compute_loss('''TODO''', '''TODO''') # TODO\n",
        "\n",
        "print(\"Prediction shape: \", pred.shape, \" # (batch_size, sequence_length, vocab_size)\") \n",
        "print(\"scalar_loss:      \", example_batch_loss.numpy().mean())"
      ]
    },
    {
      "attachments": {},
      "cell_type": "markdown",
      "metadata": {
        "id": "0Seh7e6eRqd7"
      },
      "source": [
        "Let's start by defining some hyperparameters for training the model. To start, we have provided some reasonable values for some of the parameters. It is up to you to use what we've learned in class to help optimize the parameter selection here!"
      ]
    },
    {
      "cell_type": "code",
      "execution_count": 23,
      "metadata": {
        "id": "JQWUUhKotkAY"
      },
      "outputs": [],
      "source": [
        "### Hyperparameter setting and optimization ###\n",
        "\n",
        "# Optimization parameters:\n",
        "num_training_iterations = 2000  # Increase this to train longer\n",
        "batch_size = 4  # Experiment between 1 and 64\n",
        "seq_length = 100  # Experiment between 50 and 500\n",
        "learning_rate = 5e-3  # Experiment between 1e-5 and 1e-1\n",
        "\n",
        "# Model parameters: \n",
        "vocab_size = len(vocab)\n",
        "embedding_dim = 256 \n",
        "rnn_units = 1024  # Experiment between 1 and 2048\n",
        "\n",
        "# Checkpoint location: \n",
        "checkpoint_dir = './training_checkpoints'\n",
        "checkpoint_prefix = os.path.join(checkpoint_dir, \"my_ckpt\")"
      ]
    },
    {
      "attachments": {},
      "cell_type": "markdown",
      "metadata": {
        "id": "5cu11p1MKYZd"
      },
      "source": [
        "Now, we are ready to define our training operation -- the optimizer and duration of training -- and use this function to train the model. You will experiment with the choice of optimizer and the duration for which you train your models, and see how these changes affect the network's output. Some optimizers you may like to try are [`Adam`](https://www.tensorflow.org/api_docs/python/tf/keras/optimizers/Adam?version=stable) and [`Adagrad`](https://www.tensorflow.org/api_docs/python/tf/keras/optimizers/Adagrad?version=stable).\n",
        "\n",
        "First, we will instantiate a new model and an optimizer. Then, we will use the [`tf.GradientTape`](https://www.tensorflow.org/api_docs/python/tf/GradientTape) method to perform the backpropagation operations. \n",
        "\n",
        "We will also generate a print-out of the model's progress through training, which will help us easily visualize whether or not we are minimizing the loss."
      ]
    },
    {
      "cell_type": "code",
      "execution_count": 24,
      "metadata": {
        "id": "F31vzJ_u66cb"
      },
      "outputs": [
        {
          "data": {
            "image/png": "[encoded data removed]",
            "text/plain": [
              "<Figure size 640x480 with 1 Axes>"
            ]
          },
          "metadata": {},
          "output_type": "display_data"
        },
        {
          "name": "stderr",
          "output_type": "stream",
          "text": [
            "100%|██████████| 2000/2000 [1:30:27<00:00,  2.71s/it]\n"
          ]
        },
        {
          "data": {
            "image/png": "[encoded data removed]",
            "text/plain": [
              "<Figure size 640x480 with 1 Axes>"
            ]
          },
          "metadata": {},
          "output_type": "display_data"
        }
      ],
      "source": [
        "### Define optimizer and training operation ###\n",
        "\n",
        "'''TODO: instantiate a new model for training using the `build_model`\n",
        "  function and the hyperparameters created above.'''\n",
        "model = build_model(vocab_size, embedding_dim, rnn_units, batch_size)\n",
        "# model = build_model('''TODO: arguments''')\n",
        "\n",
        "'''TODO: instantiate an optimizer with its learning rate.\n",
        "  Checkout the tensorflow website for a list of supported optimizers.\n",
        "  https://www.tensorflow.org/api_docs/python/tf/keras/optimizers/\n",
        "  Try using the Adam optimizer to start.'''\n",
        "optimizer = tf.keras.optimizers.Adam(learning_rate)\n",
        "# optimizer = # TODO\n",
        "\n",
        "@tf.function\n",
        "def train_step(x, y): \n",
        "  # Use tf.GradientTape()\n",
        "  with tf.GradientTape() as tape:\n",
        "  \n",
        "    '''TODO: feed the current input into the model and generate predictions'''\n",
        "    y_hat = model(x) # TODO\n",
        "    # y_hat = model('''TODO''')\n",
        "  \n",
        "    '''TODO: compute the loss!'''\n",
        "    loss = compute_loss(y, y_hat) # TODO\n",
        "    # loss = compute_loss('''TODO''', '''TODO''')\n",
        "\n",
        "  # Now, compute the gradients \n",
        "  '''TODO: complete the function call for gradient computation. \n",
        "      Remember that we want the gradient of the loss with respect all \n",
        "      of the model parameters. \n",
        "      HINT: use `model.trainable_variables` to get a list of all model\n",
        "      parameters.'''\n",
        "  grads = tape.gradient(loss, model.trainable_variables) # TODO\n",
        "  # grads = tape.gradient('''TODO''', '''TODO''')\n",
        "  \n",
        "  # Apply the gradients to the optimizer so it can update the model accordingly\n",
        "  optimizer.apply_gradients(zip(grads, model.trainable_variables))\n",
        "  return loss\n",
        "\n",
        "##################\n",
        "# Begin training!#\n",
        "##################\n",
        "\n",
        "history = []\n",
        "plotter = mdl.util.PeriodicPlotter(sec=2, xlabel='Iterations', ylabel='Loss')\n",
        "if hasattr(tqdm, '_instances'): tqdm._instances.clear() # clear if it exists\n",
        "\n",
        "for iter in tqdm(range(num_training_iterations)):\n",
        "\n",
        "  # Grab a batch and propagate it through the network\n",
        "  x_batch, y_batch = get_batch(vectorized_songs, seq_length, batch_size)\n",
        "  loss = train_step(x_batch, y_batch)\n",
        "\n",
        "  # Update the progress bar\n",
        "  history.append(loss.numpy().mean())\n",
        "  plotter.plot(history)\n",
        "\n",
        "  # Update the model with the changed weights!\n",
        "  if iter % 100 == 0:     \n",
        "    model.save_weights(checkpoint_prefix)\n",
        "    \n",
        "# Save the trained model and the weights\n",
        "model.save_weights(checkpoint_prefix)\n"
      ]
    },
    {
      "attachments": {},
      "cell_type": "markdown",
      "metadata": {
        "id": "kKkD5M6eoSiN"
      },
      "source": [
        "## 2.6 Generate music using the RNN model\n",
        "\n",
        "Now, we can use our trained RNN model to generate some music! When generating music, we'll have to feed the model some sort of seed to get it started (because it can't predict anything without something to start with!).\n",
        "\n",
        "Once we have a generated seed, we can then iteratively predict each successive character (remember, we are using the ABC representation for our music) using our trained RNN. More specifically, recall that our RNN outputs a `softmax` over possible successive characters. For inference, we iteratively sample from these distributions, and then use our samples to encode a generated song in the ABC format.\n",
        "\n",
        "Then, all we have to do is write it to a file and listen!"
      ]
    },
    {
      "attachments": {},
      "cell_type": "markdown",
      "metadata": {
        "id": "JIPcXllKjkdr"
      },
      "source": [
        "### Restore the latest checkpoint\n",
        "\n",
        "To keep this inference step simple, we will use a batch size of 1. Because of how the RNN state is passed from timestep to timestep, the model will only be able to accept a fixed batch size once it is built. \n",
        "\n",
        "To run the model with a different `batch_size`, we'll need to rebuild the model and restore the weights from the latest checkpoint, i.e., the weights after the last checkpoint during training:"
      ]
    },
    {
      "cell_type": "code",
      "execution_count": 25,
      "metadata": {
        "id": "LycQ-ot_jjyu"
      },
      "outputs": [
        {
          "name": "stdout",
          "output_type": "stream",
          "text": [
            "Model: \"sequential_2\"\n",
            "_________________________________________________________________\n",
            " Layer (type)                Output Shape              Param #   \n",
            "=================================================================\n",
            " embedding_2 (Embedding)     (1, None, 256)            21248     \n",
            "                                                                 \n",
            " lstm_2 (LSTM)               (1, None, 1024)           5246976   \n",
            "                                                                 \n",
            " dense_2 (Dense)             (1, None, 83)             85075     \n",
            "                                                                 \n",
            "=================================================================\n",
            "Total params: 5,353,299\n",
            "Trainable params: 5,353,299\n",
            "Non-trainable params: 0\n",
            "_________________________________________________________________\n"
          ]
        }
      ],
      "source": [
        "'''TODO: Rebuild the model using a batch_size=1'''\n",
        "model = build_model(vocab_size, embedding_dim, rnn_units, batch_size=1) # TODO\n",
        "# model = build_model('''TODO''', '''TODO''', '''TODO''', batch_size=1)\n",
        "\n",
        "# Restore the model weights for the last checkpoint after training\n",
        "model.load_weights(tf.train.latest_checkpoint(checkpoint_dir))\n",
        "model.build(tf.TensorShape([1, None]))\n",
        "\n",
        "model.summary()"
      ]
    },
    {
      "attachments": {},
      "cell_type": "markdown",
      "metadata": {
        "id": "I9b4V2C8N62l"
      },
      "source": [
        "Notice that we have fed in a fixed `batch_size` of 1 for inference."
      ]
    },
    {
      "attachments": {},
      "cell_type": "markdown",
      "metadata": {
        "id": "DjGz1tDkzf-u"
      },
      "source": [
        "### The prediction procedure\n",
        "\n",
        "Now, we're ready to write the code to generate text in the ABC music format:\n",
        "\n",
        "* Initialize a \"seed\" start string and the RNN state, and set the number of characters we want to generate.\n",
        "\n",
        "* Use the start string and the RNN state to obtain the probability distribution over the next predicted character.\n",
        "\n",
        "* Sample from multinomial distribution to calculate the index of the predicted character. This predicted character is then used as the next input to the model.\n",
        "\n",
        "* At each time step, the updated RNN state is fed back into the model, so that it now has more context in making the next prediction. After predicting the next character, the updated RNN states are again fed back into the model, which is how it learns sequence dependencies in the data, as it gets more information from the previous predictions.\n",
        "\n",
        "![LSTM inference](https://raw.githubusercontent.com/aamini/introtodeeplearning/2019/lab1/img/lstm_inference.png)\n",
        "\n",
        "Complete and experiment with this code block (as well as some of the aspects of network definition and training!), and see how the model performs. How do songs generated after training with a small number of epochs compare to those generated after a longer duration of training?"
      ]
    },
    {
      "cell_type": "code",
      "execution_count": 35,
      "metadata": {
        "id": "WvuwZBX5Ogfd"
      },
      "outputs": [],
      "source": [
        "### Prediction of a generated song ###\n",
        "\n",
        "def generate_text(model, start_string, generation_length=1000):\n",
        "  # Evaluation step (generating ABC text using the learned RNN model)\n",
        "\n",
        "  '''TODO: convert the start string to numbers (vectorize)'''\n",
        "  input_eval = [char2idx[s] for s in start_string] # TODO\n",
        "  # input_eval = ['''TODO''']\n",
        "  input_eval = tf.expand_dims(input_eval, 0)\n",
        "\n",
        "  # Empty string to store our results\n",
        "  text_generated = []\n",
        "\n",
        "  # Here batch size == 1\n",
        "  model.reset_states()\n",
        "  tqdm._instances.clear()\n",
        "\n",
        "  for i in tqdm(range(generation_length)):\n",
        "      '''TODO: evaluate the inputs and generate the next character predictions'''\n",
        "      predictions = model(input_eval)\n",
        "      # predictions = model('''TODO''')\n",
        "      \n",
        "      # Remove the batch dimension\n",
        "      predictions = tf.squeeze(predictions, 0)\n",
        "      \n",
        "      '''TODO: use a multinomial distribution to sample'''\n",
        "      predicted_id = tf.random.categorical(predictions, num_samples=1)[-1,0].numpy()\n",
        "      # predicted_id = tf.random.categorical('''TODO''', num_samples=1)[-1,0].numpy()\n",
        "      \n",
        "      # Pass the prediction along with the previous hidden state\n",
        "      #   as the next inputs to the model\n",
        "      input_eval = tf.expand_dims([predicted_id], 0)\n",
        "      \n",
        "      '''TODO: add the predicted character to the generated text!'''\n",
        "      # Hint: consider what format the prediction is in vs. the output\n",
        "      text_generated.append(idx2char[predicted_id]) # TODO \n",
        "      # text_generated.append('''TODO''')\n",
        "    \n",
        "  return (start_string + ''.join(text_generated))"
      ]
    },
    {
      "cell_type": "code",
      "execution_count": 36,
      "metadata": {
        "id": "ktovv0RFhrkn"
      },
      "outputs": [
        {
          "name": "stderr",
          "output_type": "stream",
          "text": [
            "100%|██████████| 1000/1000 [00:30<00:00, 32.39it/s]\n"
          ]
        }
      ],
      "source": [
        "generated_text = generate_text(model, start_string=\"X\", generation_length=1000) "
      ]
    },
    {
      "attachments": {},
      "cell_type": "markdown",
      "metadata": {
        "id": "AM2Uma_-yVIq"
      },
      "source": [
        "### Play back the generated music!\n",
        "\n",
        "We can now call a function to convert the ABC format text to an audio file, and then play that back to check out our generated music! Try training longer if the resulting song is not long enough, or re-generating the song!"
      ]
    },
    {
      "cell_type": "code",
      "execution_count": 37,
      "metadata": {
        "id": "LrOtG64bfLto"
      },
      "outputs": [
        {
          "name": "stdout",
          "output_type": "stream",
          "text": [
            "Found 3 songs in text\n"
          ]
        }
      ],
      "source": [
        "### Play back generated songs ###\n",
        "\n",
        "generated_songs = mdl.lab1.extract_song_snippet(generated_text)\n",
        "\n",
        "for i, song in enumerate(generated_songs): \n",
        "  # Synthesize the waveform from a song\n",
        "  waveform = mdl.lab1.play_song(song)\n",
        "\n",
        "  # If its a valid song (correct syntax), lets play it! \n",
        "  if waveform:\n",
        "    print(\"Generated song\", i)\n",
        "    ipythondisplay.display(waveform)"
      ]
    },
    {
      "attachments": {},
      "cell_type": "markdown",
      "metadata": {
        "id": "HgVvcrYmSKGG"
      },
      "source": [
        "## 2.7 Experiment and **get awarded for the best songs**!\n",
        "\n",
        "Congrats on making your first sequence model in TensorFlow! It's a pretty big accomplishment, and hopefully you have some sweet tunes to show for it.\n",
        "\n",
        "Consider how you may improve your model and what seems to be most important in terms of performance. Here are some ideas to get you started:\n",
        "\n",
        "*  How does the number of training epochs affect the performance?\n",
        "*  What if you alter or augment the dataset? \n",
        "*  Does the choice of start string significantly affect the result? \n",
        "\n",
        "Try to optimize your model and submit your best song! **Participants will be eligible for prizes during the January 2023 offering. To enter the competition, you must upload the following to [this submission link](https://www.dropbox.com/request/Xj9iI1JXLsDy5FWgug7s):**\n",
        "\n",
        "* a recording of your song;\n",
        "* iPython notebook with the code you used to generate the song;\n",
        "* a description and/or diagram of the architecture and hyperparameters you used -- if there are any additional or interesting modifications you made to the template code, please include these in your description.\n",
        "\n",
        "**Name your file in the following format: ``[FirstName]_[LastName]_RNNMusic``, followed by the file format (.zip, .mp4, .ipynb, .pdf, etc). ZIP files of all three components are preferred over individual files. If you submit individual files, you must name the individual files according to the above nomenclature.**\n",
        "\n",
        "You can also tweet us at [@MITDeepLearning](https://twitter.com/MITDeepLearning) a copy of the song (but this will not enter you into the competition)! See this example song generated by a previous student (credit Ana Heart): <a href=\"https://twitter.com/AnaWhatever16/status/1263092914680410112?s=20\">song from May 20, 2020.</a>\n",
        "<script async src=\"https://platform.twitter.com/widgets.js\" charset=\"utf-8\"></script>\n",
        "\n",
        "Have fun and happy listening!\n",
        "\n",
        "![Let's Dance!](http://33.media.tumblr.com/3d223954ad0a77f4e98a7b87136aa395/tumblr_nlct5lFVbF1qhu7oio1_500.gif)"
      ]
    }
  ],
  "metadata": {
    "accelerator": "GPU",
    "colab": {
      "collapsed_sections": [
        "uoJsVjtCMunI"
      ],
      "name": "Part2_Music_Generation.ipynb",
      "provenance": []
    },
    "kernelspec": {
      "display_name": "Python 3",
      "name": "python3"
    },
    "language_info": {
      "codemirror_mode": {
        "name": "ipython",
        "version": 3
      },
      "file_extension": ".py",
      "mimetype": "text/x-python",
      "name": "python",
      "nbconvert_exporter": "python",
      "pygments_lexer": "ipython3",
      "version": "3.11.3"
    }
  },
  "nbformat": 4,
  "nbformat_minor": 0
}
